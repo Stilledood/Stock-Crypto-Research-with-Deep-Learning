{
 "cells": [
  {
   "cell_type": "markdown",
   "id": "15b1be5f-ec4c-4e93-9f0e-cc8a0d6942a0",
   "metadata": {},
   "source": [
    "# 1. Install and Import Baseline Dependecies"
   ]
  },
  {
   "cell_type": "code",
   "execution_count": 10,
   "id": "e93ab874-4afe-4381-a9a3-0e0861db3d3b",
   "metadata": {
    "collapsed": true,
    "jupyter": {
     "outputs_hidden": true
    },
    "tags": []
   },
   "outputs": [
    {
     "name": "stdout",
     "output_type": "stream",
     "text": [
      "Requirement already satisfied: transformers in e:\\stock-crypto-research-with-deep-learning\\stockcrypto\\lib\\site-packages (4.24.0)\n",
      "Requirement already satisfied: packaging>=20.0 in e:\\stock-crypto-research-with-deep-learning\\stockcrypto\\lib\\site-packages (from transformers) (21.3)\n",
      "Requirement already satisfied: regex!=2019.12.17 in e:\\stock-crypto-research-with-deep-learning\\stockcrypto\\lib\\site-packages (from transformers) (2022.10.31)\n",
      "Requirement already satisfied: requests in e:\\stock-crypto-research-with-deep-learning\\stockcrypto\\lib\\site-packages (from transformers) (2.28.1)\n",
      "Requirement already satisfied: pyyaml>=5.1 in e:\\stock-crypto-research-with-deep-learning\\stockcrypto\\lib\\site-packages (from transformers) (6.0)\n",
      "Requirement already satisfied: filelock in e:\\stock-crypto-research-with-deep-learning\\stockcrypto\\lib\\site-packages (from transformers) (3.8.0)\n",
      "Requirement already satisfied: numpy>=1.17 in e:\\stock-crypto-research-with-deep-learning\\stockcrypto\\lib\\site-packages (from transformers) (1.23.5)\n",
      "Requirement already satisfied: huggingface-hub<1.0,>=0.10.0 in e:\\stock-crypto-research-with-deep-learning\\stockcrypto\\lib\\site-packages (from transformers) (0.11.0)\n",
      "Requirement already satisfied: tqdm>=4.27 in e:\\stock-crypto-research-with-deep-learning\\stockcrypto\\lib\\site-packages (from transformers) (4.64.1)\n",
      "Requirement already satisfied: tokenizers!=0.11.3,<0.14,>=0.11.1 in e:\\stock-crypto-research-with-deep-learning\\stockcrypto\\lib\\site-packages (from transformers) (0.13.2)\n",
      "Requirement already satisfied: typing-extensions>=3.7.4.3 in e:\\stock-crypto-research-with-deep-learning\\stockcrypto\\lib\\site-packages (from huggingface-hub<1.0,>=0.10.0->transformers) (4.4.0)\n",
      "Requirement already satisfied: pyparsing!=3.0.5,>=2.0.2 in e:\\stock-crypto-research-with-deep-learning\\stockcrypto\\lib\\site-packages (from packaging>=20.0->transformers) (3.0.9)\n",
      "Requirement already satisfied: colorama in e:\\stock-crypto-research-with-deep-learning\\stockcrypto\\lib\\site-packages (from tqdm>=4.27->transformers) (0.4.6)\n",
      "Requirement already satisfied: urllib3<1.27,>=1.21.1 in e:\\stock-crypto-research-with-deep-learning\\stockcrypto\\lib\\site-packages (from requests->transformers) (1.26.12)\n",
      "Requirement already satisfied: certifi>=2017.4.17 in e:\\stock-crypto-research-with-deep-learning\\stockcrypto\\lib\\site-packages (from requests->transformers) (2022.9.24)\n",
      "Requirement already satisfied: charset-normalizer<3,>=2 in e:\\stock-crypto-research-with-deep-learning\\stockcrypto\\lib\\site-packages (from requests->transformers) (2.1.1)\n",
      "Requirement already satisfied: idna<4,>=2.5 in e:\\stock-crypto-research-with-deep-learning\\stockcrypto\\lib\\site-packages (from requests->transformers) (3.4)\n",
      "Note: you may need to restart the kernel to use updated packages.\n"
     ]
    },
    {
     "name": "stderr",
     "output_type": "stream",
     "text": [
      "\n",
      "[notice] A new release of pip available: 22.2.2 -> 22.3.1\n",
      "[notice] To update, run: python.exe -m pip install --upgrade pip\n"
     ]
    }
   ],
   "source": [
    "pip install transformers\n"
   ]
  },
  {
   "cell_type": "code",
   "execution_count": null,
   "id": "a57087a8-86ea-43aa-9159-210798b94b64",
   "metadata": {
    "collapsed": true,
    "jupyter": {
     "outputs_hidden": true
    },
    "tags": []
   },
   "outputs": [
    {
     "ename": "SyntaxError",
     "evalue": "invalid syntax (3307789763.py, line 1)",
     "output_type": "error",
     "traceback": [
      "\u001b[1;36m  Cell \u001b[1;32mIn [11], line 1\u001b[1;36m\u001b[0m\n\u001b[1;33m    pip install bs4\u001b[0m\n\u001b[1;37m        ^\u001b[0m\n\u001b[1;31mSyntaxError\u001b[0m\u001b[1;31m:\u001b[0m invalid syntax\n"
     ]
    }
   ],
   "source": [
    "pip install bs4\n"
   ]
  },
  {
   "cell_type": "code",
   "execution_count": 14,
   "id": "aa6d2e6b-2785-4345-aecb-03d22f2daaa5",
   "metadata": {
    "tags": []
   },
   "outputs": [
    {
     "name": "stdout",
     "output_type": "stream",
     "text": [
      "Requirement already satisfied: torch in e:\\stock-crypto-research-with-deep-learning\\stockcrypto\\lib\\site-packages (1.13.0)\n",
      "Requirement already satisfied: typing-extensions in e:\\stock-crypto-research-with-deep-learning\\stockcrypto\\lib\\site-packages (from torch) (4.4.0)\n",
      "Note: you may need to restart the kernel to use updated packages.\n"
     ]
    },
    {
     "name": "stderr",
     "output_type": "stream",
     "text": [
      "\n",
      "[notice] A new release of pip available: 22.2.2 -> 22.3.1\n",
      "[notice] To update, run: python.exe -m pip install --upgrade pip\n"
     ]
    }
   ],
   "source": [
    "pip install torch\n"
   ]
  },
  {
   "cell_type": "code",
   "execution_count": 3,
   "id": "3654eeab-a427-47f6-9dff-b3ee2fb73f47",
   "metadata": {
    "collapsed": true,
    "jupyter": {
     "outputs_hidden": true
    },
    "tags": []
   },
   "outputs": [
    {
     "name": "stdout",
     "output_type": "stream",
     "text": [
      "Collecting ipywidgets\n",
      "  Downloading ipywidgets-8.0.2-py3-none-any.whl (134 kB)\n",
      "     -------------------------------------- 134.4/134.4 kB 2.0 MB/s eta 0:00:00\n",
      "Collecting jupyterlab-widgets~=3.0\n",
      "  Downloading jupyterlab_widgets-3.0.3-py3-none-any.whl (384 kB)\n",
      "     -------------------------------------- 384.1/384.1 kB 8.0 MB/s eta 0:00:00\n",
      "Requirement already satisfied: ipykernel>=4.5.1 in e:\\stock-crypto-research-with-deep-learning\\stockcrypto\\lib\\site-packages (from ipywidgets) (6.17.1)\n",
      "Requirement already satisfied: traitlets>=4.3.1 in e:\\stock-crypto-research-with-deep-learning\\stockcrypto\\lib\\site-packages (from ipywidgets) (5.5.0)\n",
      "Collecting widgetsnbextension~=4.0\n",
      "  Downloading widgetsnbextension-4.0.3-py3-none-any.whl (2.0 MB)\n",
      "     ---------------------------------------- 2.0/2.0 MB 16.2 MB/s eta 0:00:00\n",
      "Requirement already satisfied: ipython>=6.1.0 in e:\\stock-crypto-research-with-deep-learning\\stockcrypto\\lib\\site-packages (from ipywidgets) (8.6.0)\n",
      "Requirement already satisfied: matplotlib-inline>=0.1 in e:\\stock-crypto-research-with-deep-learning\\stockcrypto\\lib\\site-packages (from ipykernel>=4.5.1->ipywidgets) (0.1.6)\n",
      "Requirement already satisfied: tornado>=6.1 in e:\\stock-crypto-research-with-deep-learning\\stockcrypto\\lib\\site-packages (from ipykernel>=4.5.1->ipywidgets) (6.2)\n",
      "Requirement already satisfied: jupyter-client>=6.1.12 in e:\\stock-crypto-research-with-deep-learning\\stockcrypto\\lib\\site-packages (from ipykernel>=4.5.1->ipywidgets) (7.4.7)\n",
      "Requirement already satisfied: pyzmq>=17 in e:\\stock-crypto-research-with-deep-learning\\stockcrypto\\lib\\site-packages (from ipykernel>=4.5.1->ipywidgets) (24.0.1)\n",
      "Requirement already satisfied: packaging in e:\\stock-crypto-research-with-deep-learning\\stockcrypto\\lib\\site-packages (from ipykernel>=4.5.1->ipywidgets) (21.3)\n",
      "Requirement already satisfied: nest-asyncio in e:\\stock-crypto-research-with-deep-learning\\stockcrypto\\lib\\site-packages (from ipykernel>=4.5.1->ipywidgets) (1.5.6)\n",
      "Requirement already satisfied: psutil in e:\\stock-crypto-research-with-deep-learning\\stockcrypto\\lib\\site-packages (from ipykernel>=4.5.1->ipywidgets) (5.9.4)\n",
      "Requirement already satisfied: debugpy>=1.0 in e:\\stock-crypto-research-with-deep-learning\\stockcrypto\\lib\\site-packages (from ipykernel>=4.5.1->ipywidgets) (1.6.3)\n",
      "Requirement already satisfied: pickleshare in e:\\stock-crypto-research-with-deep-learning\\stockcrypto\\lib\\site-packages (from ipython>=6.1.0->ipywidgets) (0.7.5)\n",
      "Requirement already satisfied: stack-data in e:\\stock-crypto-research-with-deep-learning\\stockcrypto\\lib\\site-packages (from ipython>=6.1.0->ipywidgets) (0.6.1)\n",
      "Requirement already satisfied: pygments>=2.4.0 in e:\\stock-crypto-research-with-deep-learning\\stockcrypto\\lib\\site-packages (from ipython>=6.1.0->ipywidgets) (2.13.0)\n",
      "Requirement already satisfied: decorator in e:\\stock-crypto-research-with-deep-learning\\stockcrypto\\lib\\site-packages (from ipython>=6.1.0->ipywidgets) (5.1.1)\n",
      "Requirement already satisfied: colorama in e:\\stock-crypto-research-with-deep-learning\\stockcrypto\\lib\\site-packages (from ipython>=6.1.0->ipywidgets) (0.4.6)\n",
      "Requirement already satisfied: jedi>=0.16 in e:\\stock-crypto-research-with-deep-learning\\stockcrypto\\lib\\site-packages (from ipython>=6.1.0->ipywidgets) (0.18.1)\n",
      "Requirement already satisfied: backcall in e:\\stock-crypto-research-with-deep-learning\\stockcrypto\\lib\\site-packages (from ipython>=6.1.0->ipywidgets) (0.2.0)\n",
      "Requirement already satisfied: prompt-toolkit<3.1.0,>3.0.1 in e:\\stock-crypto-research-with-deep-learning\\stockcrypto\\lib\\site-packages (from ipython>=6.1.0->ipywidgets) (3.0.32)\n",
      "Requirement already satisfied: parso<0.9.0,>=0.8.0 in e:\\stock-crypto-research-with-deep-learning\\stockcrypto\\lib\\site-packages (from jedi>=0.16->ipython>=6.1.0->ipywidgets) (0.8.3)\n",
      "Requirement already satisfied: entrypoints in e:\\stock-crypto-research-with-deep-learning\\stockcrypto\\lib\\site-packages (from jupyter-client>=6.1.12->ipykernel>=4.5.1->ipywidgets) (0.4)\n",
      "Requirement already satisfied: jupyter-core>=4.9.2 in e:\\stock-crypto-research-with-deep-learning\\stockcrypto\\lib\\site-packages (from jupyter-client>=6.1.12->ipykernel>=4.5.1->ipywidgets) (5.0.0)\n",
      "Requirement already satisfied: python-dateutil>=2.8.2 in e:\\stock-crypto-research-with-deep-learning\\stockcrypto\\lib\\site-packages (from jupyter-client>=6.1.12->ipykernel>=4.5.1->ipywidgets) (2.8.2)\n",
      "Requirement already satisfied: wcwidth in e:\\stock-crypto-research-with-deep-learning\\stockcrypto\\lib\\site-packages (from prompt-toolkit<3.1.0,>3.0.1->ipython>=6.1.0->ipywidgets) (0.2.5)\n",
      "Requirement already satisfied: pyparsing!=3.0.5,>=2.0.2 in e:\\stock-crypto-research-with-deep-learning\\stockcrypto\\lib\\site-packages (from packaging->ipykernel>=4.5.1->ipywidgets) (3.0.9)\n",
      "Requirement already satisfied: asttokens>=2.1.0 in e:\\stock-crypto-research-with-deep-learning\\stockcrypto\\lib\\site-packages (from stack-data->ipython>=6.1.0->ipywidgets) (2.1.0)\n",
      "Requirement already satisfied: pure-eval in e:\\stock-crypto-research-with-deep-learning\\stockcrypto\\lib\\site-packages (from stack-data->ipython>=6.1.0->ipywidgets) (0.2.2)\n",
      "Requirement already satisfied: executing>=1.2.0 in e:\\stock-crypto-research-with-deep-learning\\stockcrypto\\lib\\site-packages (from stack-data->ipython>=6.1.0->ipywidgets) (1.2.0)\n",
      "Requirement already satisfied: six in e:\\stock-crypto-research-with-deep-learning\\stockcrypto\\lib\\site-packages (from asttokens>=2.1.0->stack-data->ipython>=6.1.0->ipywidgets) (1.16.0)\n",
      "Requirement already satisfied: pywin32>=1.0 in e:\\stock-crypto-research-with-deep-learning\\stockcrypto\\lib\\site-packages (from jupyter-core>=4.9.2->jupyter-client>=6.1.12->ipykernel>=4.5.1->ipywidgets) (305)\n",
      "Requirement already satisfied: platformdirs in e:\\stock-crypto-research-with-deep-learning\\stockcrypto\\lib\\site-packages (from jupyter-core>=4.9.2->jupyter-client>=6.1.12->ipykernel>=4.5.1->ipywidgets) (2.5.4)\n",
      "Installing collected packages: widgetsnbextension, jupyterlab-widgets, ipywidgets\n",
      "Successfully installed ipywidgets-8.0.2 jupyterlab-widgets-3.0.3 widgetsnbextension-4.0.3\n",
      "Note: you may need to restart the kernel to use updated packages.\n"
     ]
    },
    {
     "name": "stderr",
     "output_type": "stream",
     "text": [
      "\n",
      "[notice] A new release of pip available: 22.2.2 -> 22.3.1\n",
      "[notice] To update, run: python.exe -m pip install --upgrade pip\n"
     ]
    }
   ],
   "source": [
    "pip install ipywidgets"
   ]
  },
  {
   "cell_type": "code",
   "execution_count": 4,
   "id": "fa1951f7-349b-4e50-8a42-9e3ce75fb67d",
   "metadata": {},
   "outputs": [],
   "source": [
    "from bs4 import BeautifulSoup\n",
    "import requests\n",
    "from transformers import PegasusTokenizer, PegasusForConditionalGeneration"
   ]
  },
  {
   "cell_type": "markdown",
   "id": "b5c51f6f-189b-4c84-9616-cabe7188367c",
   "metadata": {},
   "source": [
    "# 2. Setup Summarization Model"
   ]
  },
  {
   "cell_type": "code",
   "execution_count": 5,
   "id": "4cc9a1ab-7fe2-467f-a90b-97e3b3369ff5",
   "metadata": {},
   "outputs": [
    {
     "name": "stdout",
     "output_type": "stream",
     "text": [
      "Requirement already satisfied: sentencepiece in e:\\stock-crypto-research-with-deep-learning\\stockcrypto\\lib\\site-packages (0.1.97)\n",
      "Note: you may need to restart the kernel to use updated packages.\n"
     ]
    },
    {
     "name": "stderr",
     "output_type": "stream",
     "text": [
      "\n",
      "[notice] A new release of pip available: 22.2.2 -> 22.3.1\n",
      "[notice] To update, run: python.exe -m pip install --upgrade pip\n"
     ]
    }
   ],
   "source": [
    "pip install sentencepiece"
   ]
  },
  {
   "cell_type": "code",
   "execution_count": 6,
   "id": "49dec1cd-31b8-463d-867a-99b4828048e3",
   "metadata": {},
   "outputs": [
    {
     "name": "stderr",
     "output_type": "stream",
     "text": [
      "Downloading: 100%|████████████████████████████████████████████████████████████████| 2.28G/2.28G [00:48<00:00, 47.3MB/s]\n"
     ]
    }
   ],
   "source": [
    "model_name = \"human-centered-summarization/financial-summarization-pegasus\"\n",
    "tokenizer = PegasusTokenizer.from_pretrained(model_name)\n",
    "model = PegasusForConditionalGeneration.from_pretrained(model_name)"
   ]
  },
  {
   "cell_type": "code",
   "execution_count": null,
   "id": "dc620b28-baa6-40b3-b793-21be0de67bba",
   "metadata": {},
   "outputs": [],
   "source": []
  }
 ],
 "metadata": {
  "kernelspec": {
   "display_name": "stockcrypto",
   "language": "python",
   "name": "stockcrypto"
  },
  "language_info": {
   "codemirror_mode": {
    "name": "ipython",
    "version": 3
   },
   "file_extension": ".py",
   "mimetype": "text/x-python",
   "name": "python",
   "nbconvert_exporter": "python",
   "pygments_lexer": "ipython3",
   "version": "3.10.7"
  }
 },
 "nbformat": 4,
 "nbformat_minor": 5
}
