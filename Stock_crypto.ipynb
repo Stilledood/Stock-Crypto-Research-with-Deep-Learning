{
 "cells": [
  {
   "cell_type": "markdown",
   "id": "15b1be5f-ec4c-4e93-9f0e-cc8a0d6942a0",
   "metadata": {},
   "source": [
    "# 1. Install and Import Baseline Dependecies"
   ]
  },
  {
   "cell_type": "code",
   "execution_count": 10,
   "id": "e93ab874-4afe-4381-a9a3-0e0861db3d3b",
   "metadata": {
    "collapsed": true,
    "jupyter": {
     "outputs_hidden": true
    },
    "tags": []
   },
   "outputs": [
    {
     "name": "stdout",
     "output_type": "stream",
     "text": [
      "Requirement already satisfied: transformers in e:\\stock-crypto-research-with-deep-learning\\stockcrypto\\lib\\site-packages (4.24.0)\n",
      "Requirement already satisfied: packaging>=20.0 in e:\\stock-crypto-research-with-deep-learning\\stockcrypto\\lib\\site-packages (from transformers) (21.3)\n",
      "Requirement already satisfied: regex!=2019.12.17 in e:\\stock-crypto-research-with-deep-learning\\stockcrypto\\lib\\site-packages (from transformers) (2022.10.31)\n",
      "Requirement already satisfied: requests in e:\\stock-crypto-research-with-deep-learning\\stockcrypto\\lib\\site-packages (from transformers) (2.28.1)\n",
      "Requirement already satisfied: pyyaml>=5.1 in e:\\stock-crypto-research-with-deep-learning\\stockcrypto\\lib\\site-packages (from transformers) (6.0)\n",
      "Requirement already satisfied: filelock in e:\\stock-crypto-research-with-deep-learning\\stockcrypto\\lib\\site-packages (from transformers) (3.8.0)\n",
      "Requirement already satisfied: numpy>=1.17 in e:\\stock-crypto-research-with-deep-learning\\stockcrypto\\lib\\site-packages (from transformers) (1.23.5)\n",
      "Requirement already satisfied: huggingface-hub<1.0,>=0.10.0 in e:\\stock-crypto-research-with-deep-learning\\stockcrypto\\lib\\site-packages (from transformers) (0.11.0)\n",
      "Requirement already satisfied: tqdm>=4.27 in e:\\stock-crypto-research-with-deep-learning\\stockcrypto\\lib\\site-packages (from transformers) (4.64.1)\n",
      "Requirement already satisfied: tokenizers!=0.11.3,<0.14,>=0.11.1 in e:\\stock-crypto-research-with-deep-learning\\stockcrypto\\lib\\site-packages (from transformers) (0.13.2)\n",
      "Requirement already satisfied: typing-extensions>=3.7.4.3 in e:\\stock-crypto-research-with-deep-learning\\stockcrypto\\lib\\site-packages (from huggingface-hub<1.0,>=0.10.0->transformers) (4.4.0)\n",
      "Requirement already satisfied: pyparsing!=3.0.5,>=2.0.2 in e:\\stock-crypto-research-with-deep-learning\\stockcrypto\\lib\\site-packages (from packaging>=20.0->transformers) (3.0.9)\n",
      "Requirement already satisfied: colorama in e:\\stock-crypto-research-with-deep-learning\\stockcrypto\\lib\\site-packages (from tqdm>=4.27->transformers) (0.4.6)\n",
      "Requirement already satisfied: urllib3<1.27,>=1.21.1 in e:\\stock-crypto-research-with-deep-learning\\stockcrypto\\lib\\site-packages (from requests->transformers) (1.26.12)\n",
      "Requirement already satisfied: certifi>=2017.4.17 in e:\\stock-crypto-research-with-deep-learning\\stockcrypto\\lib\\site-packages (from requests->transformers) (2022.9.24)\n",
      "Requirement already satisfied: charset-normalizer<3,>=2 in e:\\stock-crypto-research-with-deep-learning\\stockcrypto\\lib\\site-packages (from requests->transformers) (2.1.1)\n",
      "Requirement already satisfied: idna<4,>=2.5 in e:\\stock-crypto-research-with-deep-learning\\stockcrypto\\lib\\site-packages (from requests->transformers) (3.4)\n",
      "Note: you may need to restart the kernel to use updated packages.\n"
     ]
    },
    {
     "name": "stderr",
     "output_type": "stream",
     "text": [
      "\n",
      "[notice] A new release of pip available: 22.2.2 -> 22.3.1\n",
      "[notice] To update, run: python.exe -m pip install --upgrade pip\n"
     ]
    }
   ],
   "source": [
    "pip install transformers\n"
   ]
  },
  {
   "cell_type": "code",
   "execution_count": null,
   "id": "a57087a8-86ea-43aa-9159-210798b94b64",
   "metadata": {
    "collapsed": true,
    "jupyter": {
     "outputs_hidden": true
    },
    "tags": []
   },
   "outputs": [
    {
     "ename": "SyntaxError",
     "evalue": "invalid syntax (3307789763.py, line 1)",
     "output_type": "error",
     "traceback": [
      "\u001b[1;36m  Cell \u001b[1;32mIn [11], line 1\u001b[1;36m\u001b[0m\n\u001b[1;33m    pip install bs4\u001b[0m\n\u001b[1;37m        ^\u001b[0m\n\u001b[1;31mSyntaxError\u001b[0m\u001b[1;31m:\u001b[0m invalid syntax\n"
     ]
    }
   ],
   "source": [
    "pip install bs4\n"
   ]
  },
  {
   "cell_type": "code",
   "execution_count": 14,
   "id": "aa6d2e6b-2785-4345-aecb-03d22f2daaa5",
   "metadata": {
    "tags": []
   },
   "outputs": [
    {
     "name": "stdout",
     "output_type": "stream",
     "text": [
      "Requirement already satisfied: torch in e:\\stock-crypto-research-with-deep-learning\\stockcrypto\\lib\\site-packages (1.13.0)\n",
      "Requirement already satisfied: typing-extensions in e:\\stock-crypto-research-with-deep-learning\\stockcrypto\\lib\\site-packages (from torch) (4.4.0)\n",
      "Note: you may need to restart the kernel to use updated packages.\n"
     ]
    },
    {
     "name": "stderr",
     "output_type": "stream",
     "text": [
      "\n",
      "[notice] A new release of pip available: 22.2.2 -> 22.3.1\n",
      "[notice] To update, run: python.exe -m pip install --upgrade pip\n"
     ]
    }
   ],
   "source": [
    "pip install torch\n"
   ]
  },
  {
   "cell_type": "code",
   "execution_count": 3,
   "id": "3654eeab-a427-47f6-9dff-b3ee2fb73f47",
   "metadata": {
    "collapsed": true,
    "jupyter": {
     "outputs_hidden": true
    },
    "tags": []
   },
   "outputs": [
    {
     "name": "stdout",
     "output_type": "stream",
     "text": [
      "Collecting ipywidgets\n",
      "  Downloading ipywidgets-8.0.2-py3-none-any.whl (134 kB)\n",
      "     -------------------------------------- 134.4/134.4 kB 2.0 MB/s eta 0:00:00\n",
      "Collecting jupyterlab-widgets~=3.0\n",
      "  Downloading jupyterlab_widgets-3.0.3-py3-none-any.whl (384 kB)\n",
      "     -------------------------------------- 384.1/384.1 kB 8.0 MB/s eta 0:00:00\n",
      "Requirement already satisfied: ipykernel>=4.5.1 in e:\\stock-crypto-research-with-deep-learning\\stockcrypto\\lib\\site-packages (from ipywidgets) (6.17.1)\n",
      "Requirement already satisfied: traitlets>=4.3.1 in e:\\stock-crypto-research-with-deep-learning\\stockcrypto\\lib\\site-packages (from ipywidgets) (5.5.0)\n",
      "Collecting widgetsnbextension~=4.0\n",
      "  Downloading widgetsnbextension-4.0.3-py3-none-any.whl (2.0 MB)\n",
      "     ---------------------------------------- 2.0/2.0 MB 16.2 MB/s eta 0:00:00\n",
      "Requirement already satisfied: ipython>=6.1.0 in e:\\stock-crypto-research-with-deep-learning\\stockcrypto\\lib\\site-packages (from ipywidgets) (8.6.0)\n",
      "Requirement already satisfied: matplotlib-inline>=0.1 in e:\\stock-crypto-research-with-deep-learning\\stockcrypto\\lib\\site-packages (from ipykernel>=4.5.1->ipywidgets) (0.1.6)\n",
      "Requirement already satisfied: tornado>=6.1 in e:\\stock-crypto-research-with-deep-learning\\stockcrypto\\lib\\site-packages (from ipykernel>=4.5.1->ipywidgets) (6.2)\n",
      "Requirement already satisfied: jupyter-client>=6.1.12 in e:\\stock-crypto-research-with-deep-learning\\stockcrypto\\lib\\site-packages (from ipykernel>=4.5.1->ipywidgets) (7.4.7)\n",
      "Requirement already satisfied: pyzmq>=17 in e:\\stock-crypto-research-with-deep-learning\\stockcrypto\\lib\\site-packages (from ipykernel>=4.5.1->ipywidgets) (24.0.1)\n",
      "Requirement already satisfied: packaging in e:\\stock-crypto-research-with-deep-learning\\stockcrypto\\lib\\site-packages (from ipykernel>=4.5.1->ipywidgets) (21.3)\n",
      "Requirement already satisfied: nest-asyncio in e:\\stock-crypto-research-with-deep-learning\\stockcrypto\\lib\\site-packages (from ipykernel>=4.5.1->ipywidgets) (1.5.6)\n",
      "Requirement already satisfied: psutil in e:\\stock-crypto-research-with-deep-learning\\stockcrypto\\lib\\site-packages (from ipykernel>=4.5.1->ipywidgets) (5.9.4)\n",
      "Requirement already satisfied: debugpy>=1.0 in e:\\stock-crypto-research-with-deep-learning\\stockcrypto\\lib\\site-packages (from ipykernel>=4.5.1->ipywidgets) (1.6.3)\n",
      "Requirement already satisfied: pickleshare in e:\\stock-crypto-research-with-deep-learning\\stockcrypto\\lib\\site-packages (from ipython>=6.1.0->ipywidgets) (0.7.5)\n",
      "Requirement already satisfied: stack-data in e:\\stock-crypto-research-with-deep-learning\\stockcrypto\\lib\\site-packages (from ipython>=6.1.0->ipywidgets) (0.6.1)\n",
      "Requirement already satisfied: pygments>=2.4.0 in e:\\stock-crypto-research-with-deep-learning\\stockcrypto\\lib\\site-packages (from ipython>=6.1.0->ipywidgets) (2.13.0)\n",
      "Requirement already satisfied: decorator in e:\\stock-crypto-research-with-deep-learning\\stockcrypto\\lib\\site-packages (from ipython>=6.1.0->ipywidgets) (5.1.1)\n",
      "Requirement already satisfied: colorama in e:\\stock-crypto-research-with-deep-learning\\stockcrypto\\lib\\site-packages (from ipython>=6.1.0->ipywidgets) (0.4.6)\n",
      "Requirement already satisfied: jedi>=0.16 in e:\\stock-crypto-research-with-deep-learning\\stockcrypto\\lib\\site-packages (from ipython>=6.1.0->ipywidgets) (0.18.1)\n",
      "Requirement already satisfied: backcall in e:\\stock-crypto-research-with-deep-learning\\stockcrypto\\lib\\site-packages (from ipython>=6.1.0->ipywidgets) (0.2.0)\n",
      "Requirement already satisfied: prompt-toolkit<3.1.0,>3.0.1 in e:\\stock-crypto-research-with-deep-learning\\stockcrypto\\lib\\site-packages (from ipython>=6.1.0->ipywidgets) (3.0.32)\n",
      "Requirement already satisfied: parso<0.9.0,>=0.8.0 in e:\\stock-crypto-research-with-deep-learning\\stockcrypto\\lib\\site-packages (from jedi>=0.16->ipython>=6.1.0->ipywidgets) (0.8.3)\n",
      "Requirement already satisfied: entrypoints in e:\\stock-crypto-research-with-deep-learning\\stockcrypto\\lib\\site-packages (from jupyter-client>=6.1.12->ipykernel>=4.5.1->ipywidgets) (0.4)\n",
      "Requirement already satisfied: jupyter-core>=4.9.2 in e:\\stock-crypto-research-with-deep-learning\\stockcrypto\\lib\\site-packages (from jupyter-client>=6.1.12->ipykernel>=4.5.1->ipywidgets) (5.0.0)\n",
      "Requirement already satisfied: python-dateutil>=2.8.2 in e:\\stock-crypto-research-with-deep-learning\\stockcrypto\\lib\\site-packages (from jupyter-client>=6.1.12->ipykernel>=4.5.1->ipywidgets) (2.8.2)\n",
      "Requirement already satisfied: wcwidth in e:\\stock-crypto-research-with-deep-learning\\stockcrypto\\lib\\site-packages (from prompt-toolkit<3.1.0,>3.0.1->ipython>=6.1.0->ipywidgets) (0.2.5)\n",
      "Requirement already satisfied: pyparsing!=3.0.5,>=2.0.2 in e:\\stock-crypto-research-with-deep-learning\\stockcrypto\\lib\\site-packages (from packaging->ipykernel>=4.5.1->ipywidgets) (3.0.9)\n",
      "Requirement already satisfied: asttokens>=2.1.0 in e:\\stock-crypto-research-with-deep-learning\\stockcrypto\\lib\\site-packages (from stack-data->ipython>=6.1.0->ipywidgets) (2.1.0)\n",
      "Requirement already satisfied: pure-eval in e:\\stock-crypto-research-with-deep-learning\\stockcrypto\\lib\\site-packages (from stack-data->ipython>=6.1.0->ipywidgets) (0.2.2)\n",
      "Requirement already satisfied: executing>=1.2.0 in e:\\stock-crypto-research-with-deep-learning\\stockcrypto\\lib\\site-packages (from stack-data->ipython>=6.1.0->ipywidgets) (1.2.0)\n",
      "Requirement already satisfied: six in e:\\stock-crypto-research-with-deep-learning\\stockcrypto\\lib\\site-packages (from asttokens>=2.1.0->stack-data->ipython>=6.1.0->ipywidgets) (1.16.0)\n",
      "Requirement already satisfied: pywin32>=1.0 in e:\\stock-crypto-research-with-deep-learning\\stockcrypto\\lib\\site-packages (from jupyter-core>=4.9.2->jupyter-client>=6.1.12->ipykernel>=4.5.1->ipywidgets) (305)\n",
      "Requirement already satisfied: platformdirs in e:\\stock-crypto-research-with-deep-learning\\stockcrypto\\lib\\site-packages (from jupyter-core>=4.9.2->jupyter-client>=6.1.12->ipykernel>=4.5.1->ipywidgets) (2.5.4)\n",
      "Installing collected packages: widgetsnbextension, jupyterlab-widgets, ipywidgets\n",
      "Successfully installed ipywidgets-8.0.2 jupyterlab-widgets-3.0.3 widgetsnbextension-4.0.3\n",
      "Note: you may need to restart the kernel to use updated packages.\n"
     ]
    },
    {
     "name": "stderr",
     "output_type": "stream",
     "text": [
      "\n",
      "[notice] A new release of pip available: 22.2.2 -> 22.3.1\n",
      "[notice] To update, run: python.exe -m pip install --upgrade pip\n"
     ]
    }
   ],
   "source": [
    "pip install ipywidgets"
   ]
  },
  {
   "cell_type": "code",
   "execution_count": 4,
   "id": "fa1951f7-349b-4e50-8a42-9e3ce75fb67d",
   "metadata": {},
   "outputs": [],
   "source": [
    "from bs4 import BeautifulSoup\n",
    "import requests\n",
    "from transformers import PegasusTokenizer, PegasusForConditionalGeneration"
   ]
  },
  {
   "cell_type": "markdown",
   "id": "b5c51f6f-189b-4c84-9616-cabe7188367c",
   "metadata": {},
   "source": [
    "# 2. Setup Summarization Model"
   ]
  },
  {
   "cell_type": "code",
   "execution_count": 5,
   "id": "4cc9a1ab-7fe2-467f-a90b-97e3b3369ff5",
   "metadata": {
    "collapsed": true,
    "jupyter": {
     "outputs_hidden": true
    },
    "tags": []
   },
   "outputs": [
    {
     "name": "stdout",
     "output_type": "stream",
     "text": [
      "Requirement already satisfied: sentencepiece in e:\\stock-crypto-research-with-deep-learning\\stockcrypto\\lib\\site-packages (0.1.97)\n",
      "Note: you may need to restart the kernel to use updated packages.\n"
     ]
    },
    {
     "name": "stderr",
     "output_type": "stream",
     "text": [
      "\n",
      "[notice] A new release of pip available: 22.2.2 -> 22.3.1\n",
      "[notice] To update, run: python.exe -m pip install --upgrade pip\n"
     ]
    }
   ],
   "source": [
    "pip install sentencepiece"
   ]
  },
  {
   "cell_type": "code",
   "execution_count": 6,
   "id": "49dec1cd-31b8-463d-867a-99b4828048e3",
   "metadata": {},
   "outputs": [
    {
     "name": "stderr",
     "output_type": "stream",
     "text": [
      "Downloading: 100%|████████████████████████████████████████████████████████████████| 2.28G/2.28G [00:48<00:00, 47.3MB/s]\n"
     ]
    }
   ],
   "source": [
    "model_name = \"human-centered-summarization/financial-summarization-pegasus\"\n",
    "tokenizer = PegasusTokenizer.from_pretrained(model_name)\n",
    "model = PegasusForConditionalGeneration.from_pretrained(model_name)"
   ]
  },
  {
   "cell_type": "markdown",
   "id": "2bfa62ed-a22f-48ce-907f-3155e5d539e6",
   "metadata": {},
   "source": [
    "# 3. Summarize a Single Article"
   ]
  },
  {
   "cell_type": "code",
   "execution_count": 12,
   "id": "235bea9b-8c74-4c03-8502-4fe6856d1496",
   "metadata": {},
   "outputs": [],
   "source": [
    "article_link = 'https://finance.yahoo.com/news/collapsed-ftx-owes-nearly-3-090734717.html'"
   ]
  },
  {
   "cell_type": "code",
   "execution_count": 13,
   "id": "def2a6a6-0be0-4526-8714-cdfbb9423ada",
   "metadata": {},
   "outputs": [],
   "source": [
    "r = requests.get(article_link)"
   ]
  },
  {
   "cell_type": "code",
   "execution_count": 14,
   "id": "12596fb1-49e0-4c7c-8d56-97b14126770f",
   "metadata": {},
   "outputs": [],
   "source": [
    "soup = BeautifulSoup(r.text, 'html.parser')"
   ]
  },
  {
   "cell_type": "code",
   "execution_count": 15,
   "id": "acdb8d41-94b8-4bb2-ac9e-24848fe4d563",
   "metadata": {},
   "outputs": [],
   "source": [
    "paragraphs =soup.find_all('p')"
   ]
  },
  {
   "cell_type": "code",
   "execution_count": 16,
   "id": "7009e32f-ae97-4237-a266-dab75162d7cd",
   "metadata": {},
   "outputs": [
    {
     "data": {
      "text/plain": [
       "[<p>(Reuters) - Cryptocurrency exchange FTX, which has filed for U.S. bankruptcy court protection, said it owes its 50 biggest creditors nearly $3.1 billion.</p>,\n",
       " <p>The exchange owes about $1.45 billion to its top ten creditors, it said in a court filing on Saturday, without naming them.</p>,\n",
       " <p>FTX and its affiliates filed for bankruptcy in Delaware on Nov. 11 in one of the highest-profile crypto blowups, leaving an estimated 1 million customers and other investors facing total losses in the billions of dollars.</p>,\n",
       " <p>The crypto exchange said on Saturday it has launched a strategic review of its global assets and is preparing for the sale or reorganization of some businesses.</p>,\n",
       " <p>(Reporting by Juby Babu in Bengaluru; Editing by Angus MacSwan)</p>]"
      ]
     },
     "execution_count": 16,
     "metadata": {},
     "output_type": "execute_result"
    }
   ],
   "source": [
    "paragraphs"
   ]
  },
  {
   "cell_type": "code",
   "execution_count": 17,
   "id": "58f53c08-2aa2-40e9-bc6b-25e13df07088",
   "metadata": {},
   "outputs": [],
   "source": [
    "text = [paragraph.text for paragraph in paragraphs]"
   ]
  },
  {
   "cell_type": "code",
   "execution_count": 19,
   "id": "1ed63a4c-d426-4e9a-9f40-936c66e2a8c0",
   "metadata": {},
   "outputs": [
    {
     "data": {
      "text/plain": [
       "['(Reuters) - Cryptocurrency exchange FTX, which has filed for U.S. bankruptcy court protection, said it owes its 50 biggest creditors nearly $3.1 billion.',\n",
       " 'The exchange owes about $1.45 billion to its top ten creditors, it said in a court filing on Saturday, without naming them.',\n",
       " 'FTX and its affiliates filed for bankruptcy in Delaware on Nov. 11 in one of the highest-profile crypto blowups, leaving an estimated 1 million customers and other investors facing total losses in the billions of dollars.',\n",
       " 'The crypto exchange said on Saturday it has launched a strategic review of its global assets and is preparing for the sale or reorganization of some businesses.',\n",
       " '(Reporting by Juby Babu in Bengaluru; Editing by Angus MacSwan)']"
      ]
     },
     "execution_count": 19,
     "metadata": {},
     "output_type": "execute_result"
    }
   ],
   "source": [
    "text"
   ]
  },
  {
   "cell_type": "code",
   "execution_count": 24,
   "id": "01a0e7db-e7bb-42f7-8029-4cd9827d4ec8",
   "metadata": {},
   "outputs": [],
   "source": [
    "words = ' '.join(text).split(' ')[:200]"
   ]
  },
  {
   "cell_type": "code",
   "execution_count": 26,
   "id": "62bf2af6-55f3-4200-b3f4-4bbfb3ca5c8c",
   "metadata": {},
   "outputs": [],
   "source": [
    "Article  = ' '.join(words)"
   ]
  },
  {
   "cell_type": "raw",
   "id": "2cc88351-2992-43f0-9911-e5604e77e0a5",
   "metadata": {},
   "source": []
  },
  {
   "cell_type": "code",
   "execution_count": 27,
   "id": "dbb5f7af-2afb-4bca-94a5-9295b7e74002",
   "metadata": {},
   "outputs": [
    {
     "data": {
      "text/plain": [
       "'(Reuters) - Cryptocurrency exchange FTX, which has filed for U.S. bankruptcy court protection, said it owes its 50 biggest creditors nearly $3.1 billion. The exchange owes about $1.45 billion to its top ten creditors, it said in a court filing on Saturday, without naming them. FTX and its affiliates filed for bankruptcy in Delaware on Nov. 11 in one of the highest-profile crypto blowups, leaving an estimated 1 million customers and other investors facing total losses in the billions of dollars. The crypto exchange said on Saturday it has launched a strategic review of its global assets and is preparing for the sale or reorganization of some businesses. (Reporting by Juby Babu in Bengaluru; Editing by Angus MacSwan)'"
      ]
     },
     "execution_count": 27,
     "metadata": {},
     "output_type": "execute_result"
    }
   ],
   "source": [
    "Article"
   ]
  },
  {
   "cell_type": "code",
   "execution_count": 29,
   "id": "c85d3ab7-4871-4ed1-9d68-748b24a03d95",
   "metadata": {},
   "outputs": [],
   "source": [
    "input_ids = tokenizer.encode(Article, return_tensors='pt')"
   ]
  },
  {
   "cell_type": "code",
   "execution_count": 30,
   "id": "32e6324d-e156-4722-a977-3219ed4623f0",
   "metadata": {},
   "outputs": [
    {
     "data": {
      "text/plain": [
       "tensor([[  143, 25445,   158,   233, 52399,  2264,  1091, 19227,   108,   162,\n",
       "           148,  3252,   118,   475,   107,   283,   107,  7073,  1462,  1471,\n",
       "           108,   243,   126, 26708,   203,  1149,  1715, 13433,  1517, 79924,\n",
       "          1722,   107,   139,  2264, 26708,   160, 41205,  1343,  1722,   112,\n",
       "           203,   349,  2069, 13433,   108,   126,   243,   115,   114,  1462,\n",
       "          5809,   124,  1327,   108,   347, 14537,   183,   107,  1091, 19227,\n",
       "           111,   203, 11834,  3252,   118,  7073,   115, 11005,   124,  4747,\n",
       "           107,  1073,   115,   156,   113,   109,  1330,   121, 12651, 11625,\n",
       "          6049,  5151,   108,  2096,   142,  3627,   305,   604,   527,   111,\n",
       "           176,  2714,  2931,   916,  5054,   115,   109, 13353,   113,  2729,\n",
       "           107,   139, 11625,  2264,   243,   124,  1327,   126,   148,  2365,\n",
       "           114,  3112,   933,   113,   203,  1122,  2718,   111,   117,  3946,\n",
       "           118,   109,   925,   132, 38771,   113,   181,  1098,   107,   143,\n",
       "         59739,   141, 13092,  1846, 51586,   115, 35386,   206, 31717,   141,\n",
       "         26491,  2603, 65261,   158,     1]])"
      ]
     },
     "execution_count": 30,
     "metadata": {},
     "output_type": "execute_result"
    }
   ],
   "source": [
    "input_ids"
   ]
  },
  {
   "cell_type": "code",
   "execution_count": 32,
   "id": "9667aa63-1d15-45c3-92f5-9a6668a07a37",
   "metadata": {},
   "outputs": [],
   "source": [
    "output = model.generate(input_ids, max_length=55, num_beams = 5, early_stopping=True)"
   ]
  },
  {
   "cell_type": "code",
   "execution_count": 33,
   "id": "8b88ae0a-02f7-47b6-a240-04bb03556931",
   "metadata": {},
   "outputs": [],
   "source": [
    "summary = tokenizer.decode(output[0] , skip_special_tokens=True)"
   ]
  },
  {
   "cell_type": "code",
   "execution_count": 34,
   "id": "3fe0b2d0-c413-4c29-8425-84a2e7b778f2",
   "metadata": {},
   "outputs": [
    {
     "data": {
      "text/plain": [
       "'FTX says it owes about $1.45 billion to its top ten creditors. Exchange filed for bankruptcy on Nov. 11 in one of the highest-profile blowups'"
      ]
     },
     "execution_count": 34,
     "metadata": {},
     "output_type": "execute_result"
    }
   ],
   "source": [
    "summary"
   ]
  },
  {
   "cell_type": "markdown",
   "id": "78ca8472-9895-4f3c-a473-4d4f261a5a18",
   "metadata": {},
   "source": [
    "# 3. Building a News and Sentiment Pipeline"
   ]
  },
  {
   "cell_type": "code",
   "execution_count": 36,
   "id": "2048fcd4-81c3-48fb-97bb-002ecc69f533",
   "metadata": {},
   "outputs": [],
   "source": [
    "monitored = ['TSL', 'ETH', 'BTC', 'META' , 'AAPL']"
   ]
  },
  {
   "cell_type": "markdown",
   "id": "c8d74894-856d-4dd3-bd3d-7d74170b7bc0",
   "metadata": {},
   "source": [
    "## 3.1 Search for stock news using  Yahoo Finance"
   ]
  },
  {
   "cell_type": "code",
   "execution_count": 61,
   "id": "f87fa3f3-c101-4751-a9c4-44dca9526cec",
   "metadata": {},
   "outputs": [],
   "source": [
    "def search_news_urls(ticker):\n",
    "    url = f\"https://news.search.yahoo.com/search;_ylt=AwrFD22hPHpjY78wWg9XNyoA;_ylu=Y29sbwNiZjEEcG9zAzEEdnRpZAMEc2VjA3BpdnM-?p={ticker}&fr2=piv-web&fr=news\"\n",
    "    r = requests.get(url)\n",
    "    soup = BeautifulSoup(r.text, 'html.parser')\n",
    "    atags = soup.find_all('a', attrs={'class':'thmb'})\n",
    "    links = [link['href'] for link in atags]\n",
    "    return links\n",
    "             "
   ]
  },
  {
   "cell_type": "code",
   "execution_count": 62,
   "id": "ef34c466-6ee7-4e69-b209-525f53b78971",
   "metadata": {},
   "outputs": [
    {
     "data": {
      "text/plain": [
       "['https://cointelegraph.com/news/gbtc-bitcoin-discount-nears-50-on-ftx-woes-as-investors-stock-up',\n",
       " 'https://www.fool.com/investing/2022/11/20/biggest-crypto-investors-are-dollar-cost-averaging/',\n",
       " 'https://www.forbes.com/sites/billybambrough/2022/11/20/in-huge-trouble-10-billion-earthquake-could-be-about-to-cause-bitcoin-and-ethereum-price-chaos/',\n",
       " 'https://www.fool.com/investing/2022/11/15/should-you-buy-bitcoin-while-its-still-below-20000/',\n",
       " 'https://seekingalpha.com/article/4558726-bitcoin-could-drop-below-10k-crypto-winter',\n",
       " 'https://ca.investing.com/news/cryptocurrency-news/btc-still-has-bearish-momentum-to-overcome-price-levels-to-watch-2835359',\n",
       " 'https://ca.investing.com/news/cryptocurrency-news/btcs-current-position-in-its-market-cycle-is-a-decisive-point-2835767',\n",
       " 'https://ca.investing.com/news/cryptocurrency-news/can-the-bulls-push-btc-price-to-17000-in-a-lethargic-backdrop-2835875',\n",
       " 'https://cointelegraph.com/news/bitcoin-sees-record-stock-to-flow-miss-btc-price-model-creator-brushes-off-ftx-blip',\n",
       " 'https://mercurial.cointelegraph.com/news/bitcoin-scarcity-rises-as-bad-exchanges-take-1-2m-btc-out-of-circulation',\n",
       " 'https://finance.yahoo.com/video/ftx-fallout-sectors-could-benefit-152757395.html?fr=sycsrp_catchall',\n",
       " 'https://finance.yahoo.com/video/bitcoin-above-16k-cryptos-ignore-153158685.html?fr=sycsrp_catchall',\n",
       " 'https://finance.yahoo.com/video/kevin-o-leary-ftx-collateral-153221392.html?fr=sycsrp_catchall',\n",
       " 'https://finance.yahoo.com/video/bitcoin-flirts-17k-report-hints-151002573.html?fr=sycsrp_catchall',\n",
       " 'https://finance.yahoo.com/video/bitcoin-holds-above-16k-amid-203833401.html?fr=sycsrp_catchall',\n",
       " 'https://finance.yahoo.com/video/advisorshares-ceo-bitcoin-bottom-ftx-203333448.html?fr=sycsrp_catchall']"
      ]
     },
     "execution_count": 62,
     "metadata": {},
     "output_type": "execute_result"
    }
   ],
   "source": [
    "search_news_urls('BTC')"
   ]
  },
  {
   "cell_type": "code",
   "execution_count": null,
   "id": "517473ac-5cc8-47c8-be17-79c8356cf5ed",
   "metadata": {},
   "outputs": [],
   "source": []
  }
 ],
 "metadata": {
  "kernelspec": {
   "display_name": "stockcrypto",
   "language": "python",
   "name": "stockcrypto"
  },
  "language_info": {
   "codemirror_mode": {
    "name": "ipython",
    "version": 3
   },
   "file_extension": ".py",
   "mimetype": "text/x-python",
   "name": "python",
   "nbconvert_exporter": "python",
   "pygments_lexer": "ipython3",
   "version": "3.10.7"
  }
 },
 "nbformat": 4,
 "nbformat_minor": 5
}
