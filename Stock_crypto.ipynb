{
 "cells": [
  {
   "cell_type": "markdown",
   "id": "15b1be5f-ec4c-4e93-9f0e-cc8a0d6942a0",
   "metadata": {},
   "source": [
    "# 1. Install and Import Baseline Dependecies"
   ]
  },
  {
   "cell_type": "code",
   "execution_count": 10,
   "id": "e93ab874-4afe-4381-a9a3-0e0861db3d3b",
   "metadata": {
    "collapsed": true,
    "jupyter": {
     "outputs_hidden": true
    },
    "tags": []
   },
   "outputs": [
    {
     "name": "stdout",
     "output_type": "stream",
     "text": [
      "Requirement already satisfied: transformers in e:\\stock-crypto-research-with-deep-learning\\stockcrypto\\lib\\site-packages (4.24.0)\n",
      "Requirement already satisfied: packaging>=20.0 in e:\\stock-crypto-research-with-deep-learning\\stockcrypto\\lib\\site-packages (from transformers) (21.3)\n",
      "Requirement already satisfied: regex!=2019.12.17 in e:\\stock-crypto-research-with-deep-learning\\stockcrypto\\lib\\site-packages (from transformers) (2022.10.31)\n",
      "Requirement already satisfied: requests in e:\\stock-crypto-research-with-deep-learning\\stockcrypto\\lib\\site-packages (from transformers) (2.28.1)\n",
      "Requirement already satisfied: pyyaml>=5.1 in e:\\stock-crypto-research-with-deep-learning\\stockcrypto\\lib\\site-packages (from transformers) (6.0)\n",
      "Requirement already satisfied: filelock in e:\\stock-crypto-research-with-deep-learning\\stockcrypto\\lib\\site-packages (from transformers) (3.8.0)\n",
      "Requirement already satisfied: numpy>=1.17 in e:\\stock-crypto-research-with-deep-learning\\stockcrypto\\lib\\site-packages (from transformers) (1.23.5)\n",
      "Requirement already satisfied: huggingface-hub<1.0,>=0.10.0 in e:\\stock-crypto-research-with-deep-learning\\stockcrypto\\lib\\site-packages (from transformers) (0.11.0)\n",
      "Requirement already satisfied: tqdm>=4.27 in e:\\stock-crypto-research-with-deep-learning\\stockcrypto\\lib\\site-packages (from transformers) (4.64.1)\n",
      "Requirement already satisfied: tokenizers!=0.11.3,<0.14,>=0.11.1 in e:\\stock-crypto-research-with-deep-learning\\stockcrypto\\lib\\site-packages (from transformers) (0.13.2)\n",
      "Requirement already satisfied: typing-extensions>=3.7.4.3 in e:\\stock-crypto-research-with-deep-learning\\stockcrypto\\lib\\site-packages (from huggingface-hub<1.0,>=0.10.0->transformers) (4.4.0)\n",
      "Requirement already satisfied: pyparsing!=3.0.5,>=2.0.2 in e:\\stock-crypto-research-with-deep-learning\\stockcrypto\\lib\\site-packages (from packaging>=20.0->transformers) (3.0.9)\n",
      "Requirement already satisfied: colorama in e:\\stock-crypto-research-with-deep-learning\\stockcrypto\\lib\\site-packages (from tqdm>=4.27->transformers) (0.4.6)\n",
      "Requirement already satisfied: urllib3<1.27,>=1.21.1 in e:\\stock-crypto-research-with-deep-learning\\stockcrypto\\lib\\site-packages (from requests->transformers) (1.26.12)\n",
      "Requirement already satisfied: certifi>=2017.4.17 in e:\\stock-crypto-research-with-deep-learning\\stockcrypto\\lib\\site-packages (from requests->transformers) (2022.9.24)\n",
      "Requirement already satisfied: charset-normalizer<3,>=2 in e:\\stock-crypto-research-with-deep-learning\\stockcrypto\\lib\\site-packages (from requests->transformers) (2.1.1)\n",
      "Requirement already satisfied: idna<4,>=2.5 in e:\\stock-crypto-research-with-deep-learning\\stockcrypto\\lib\\site-packages (from requests->transformers) (3.4)\n",
      "Note: you may need to restart the kernel to use updated packages.\n"
     ]
    },
    {
     "name": "stderr",
     "output_type": "stream",
     "text": [
      "\n",
      "[notice] A new release of pip available: 22.2.2 -> 22.3.1\n",
      "[notice] To update, run: python.exe -m pip install --upgrade pip\n"
     ]
    }
   ],
   "source": [
    "pip install transformers\n"
   ]
  },
  {
   "cell_type": "code",
   "execution_count": null,
   "id": "a57087a8-86ea-43aa-9159-210798b94b64",
   "metadata": {
    "collapsed": true,
    "jupyter": {
     "outputs_hidden": true
    },
    "tags": []
   },
   "outputs": [
    {
     "ename": "SyntaxError",
     "evalue": "invalid syntax (3307789763.py, line 1)",
     "output_type": "error",
     "traceback": [
      "\u001b[1;36m  Cell \u001b[1;32mIn [11], line 1\u001b[1;36m\u001b[0m\n\u001b[1;33m    pip install bs4\u001b[0m\n\u001b[1;37m        ^\u001b[0m\n\u001b[1;31mSyntaxError\u001b[0m\u001b[1;31m:\u001b[0m invalid syntax\n"
     ]
    }
   ],
   "source": [
    "pip install bs4\n"
   ]
  },
  {
   "cell_type": "code",
   "execution_count": 14,
   "id": "aa6d2e6b-2785-4345-aecb-03d22f2daaa5",
   "metadata": {
    "tags": []
   },
   "outputs": [
    {
     "name": "stdout",
     "output_type": "stream",
     "text": [
      "Requirement already satisfied: torch in e:\\stock-crypto-research-with-deep-learning\\stockcrypto\\lib\\site-packages (1.13.0)\n",
      "Requirement already satisfied: typing-extensions in e:\\stock-crypto-research-with-deep-learning\\stockcrypto\\lib\\site-packages (from torch) (4.4.0)\n",
      "Note: you may need to restart the kernel to use updated packages.\n"
     ]
    },
    {
     "name": "stderr",
     "output_type": "stream",
     "text": [
      "\n",
      "[notice] A new release of pip available: 22.2.2 -> 22.3.1\n",
      "[notice] To update, run: python.exe -m pip install --upgrade pip\n"
     ]
    }
   ],
   "source": [
    "pip install torch\n"
   ]
  },
  {
   "cell_type": "code",
   "execution_count": 3,
   "id": "3654eeab-a427-47f6-9dff-b3ee2fb73f47",
   "metadata": {
    "collapsed": true,
    "jupyter": {
     "outputs_hidden": true
    },
    "tags": []
   },
   "outputs": [
    {
     "name": "stdout",
     "output_type": "stream",
     "text": [
      "Collecting ipywidgets\n",
      "  Downloading ipywidgets-8.0.2-py3-none-any.whl (134 kB)\n",
      "     -------------------------------------- 134.4/134.4 kB 2.0 MB/s eta 0:00:00\n",
      "Collecting jupyterlab-widgets~=3.0\n",
      "  Downloading jupyterlab_widgets-3.0.3-py3-none-any.whl (384 kB)\n",
      "     -------------------------------------- 384.1/384.1 kB 8.0 MB/s eta 0:00:00\n",
      "Requirement already satisfied: ipykernel>=4.5.1 in e:\\stock-crypto-research-with-deep-learning\\stockcrypto\\lib\\site-packages (from ipywidgets) (6.17.1)\n",
      "Requirement already satisfied: traitlets>=4.3.1 in e:\\stock-crypto-research-with-deep-learning\\stockcrypto\\lib\\site-packages (from ipywidgets) (5.5.0)\n",
      "Collecting widgetsnbextension~=4.0\n",
      "  Downloading widgetsnbextension-4.0.3-py3-none-any.whl (2.0 MB)\n",
      "     ---------------------------------------- 2.0/2.0 MB 16.2 MB/s eta 0:00:00\n",
      "Requirement already satisfied: ipython>=6.1.0 in e:\\stock-crypto-research-with-deep-learning\\stockcrypto\\lib\\site-packages (from ipywidgets) (8.6.0)\n",
      "Requirement already satisfied: matplotlib-inline>=0.1 in e:\\stock-crypto-research-with-deep-learning\\stockcrypto\\lib\\site-packages (from ipykernel>=4.5.1->ipywidgets) (0.1.6)\n",
      "Requirement already satisfied: tornado>=6.1 in e:\\stock-crypto-research-with-deep-learning\\stockcrypto\\lib\\site-packages (from ipykernel>=4.5.1->ipywidgets) (6.2)\n",
      "Requirement already satisfied: jupyter-client>=6.1.12 in e:\\stock-crypto-research-with-deep-learning\\stockcrypto\\lib\\site-packages (from ipykernel>=4.5.1->ipywidgets) (7.4.7)\n",
      "Requirement already satisfied: pyzmq>=17 in e:\\stock-crypto-research-with-deep-learning\\stockcrypto\\lib\\site-packages (from ipykernel>=4.5.1->ipywidgets) (24.0.1)\n",
      "Requirement already satisfied: packaging in e:\\stock-crypto-research-with-deep-learning\\stockcrypto\\lib\\site-packages (from ipykernel>=4.5.1->ipywidgets) (21.3)\n",
      "Requirement already satisfied: nest-asyncio in e:\\stock-crypto-research-with-deep-learning\\stockcrypto\\lib\\site-packages (from ipykernel>=4.5.1->ipywidgets) (1.5.6)\n",
      "Requirement already satisfied: psutil in e:\\stock-crypto-research-with-deep-learning\\stockcrypto\\lib\\site-packages (from ipykernel>=4.5.1->ipywidgets) (5.9.4)\n",
      "Requirement already satisfied: debugpy>=1.0 in e:\\stock-crypto-research-with-deep-learning\\stockcrypto\\lib\\site-packages (from ipykernel>=4.5.1->ipywidgets) (1.6.3)\n",
      "Requirement already satisfied: pickleshare in e:\\stock-crypto-research-with-deep-learning\\stockcrypto\\lib\\site-packages (from ipython>=6.1.0->ipywidgets) (0.7.5)\n",
      "Requirement already satisfied: stack-data in e:\\stock-crypto-research-with-deep-learning\\stockcrypto\\lib\\site-packages (from ipython>=6.1.0->ipywidgets) (0.6.1)\n",
      "Requirement already satisfied: pygments>=2.4.0 in e:\\stock-crypto-research-with-deep-learning\\stockcrypto\\lib\\site-packages (from ipython>=6.1.0->ipywidgets) (2.13.0)\n",
      "Requirement already satisfied: decorator in e:\\stock-crypto-research-with-deep-learning\\stockcrypto\\lib\\site-packages (from ipython>=6.1.0->ipywidgets) (5.1.1)\n",
      "Requirement already satisfied: colorama in e:\\stock-crypto-research-with-deep-learning\\stockcrypto\\lib\\site-packages (from ipython>=6.1.0->ipywidgets) (0.4.6)\n",
      "Requirement already satisfied: jedi>=0.16 in e:\\stock-crypto-research-with-deep-learning\\stockcrypto\\lib\\site-packages (from ipython>=6.1.0->ipywidgets) (0.18.1)\n",
      "Requirement already satisfied: backcall in e:\\stock-crypto-research-with-deep-learning\\stockcrypto\\lib\\site-packages (from ipython>=6.1.0->ipywidgets) (0.2.0)\n",
      "Requirement already satisfied: prompt-toolkit<3.1.0,>3.0.1 in e:\\stock-crypto-research-with-deep-learning\\stockcrypto\\lib\\site-packages (from ipython>=6.1.0->ipywidgets) (3.0.32)\n",
      "Requirement already satisfied: parso<0.9.0,>=0.8.0 in e:\\stock-crypto-research-with-deep-learning\\stockcrypto\\lib\\site-packages (from jedi>=0.16->ipython>=6.1.0->ipywidgets) (0.8.3)\n",
      "Requirement already satisfied: entrypoints in e:\\stock-crypto-research-with-deep-learning\\stockcrypto\\lib\\site-packages (from jupyter-client>=6.1.12->ipykernel>=4.5.1->ipywidgets) (0.4)\n",
      "Requirement already satisfied: jupyter-core>=4.9.2 in e:\\stock-crypto-research-with-deep-learning\\stockcrypto\\lib\\site-packages (from jupyter-client>=6.1.12->ipykernel>=4.5.1->ipywidgets) (5.0.0)\n",
      "Requirement already satisfied: python-dateutil>=2.8.2 in e:\\stock-crypto-research-with-deep-learning\\stockcrypto\\lib\\site-packages (from jupyter-client>=6.1.12->ipykernel>=4.5.1->ipywidgets) (2.8.2)\n",
      "Requirement already satisfied: wcwidth in e:\\stock-crypto-research-with-deep-learning\\stockcrypto\\lib\\site-packages (from prompt-toolkit<3.1.0,>3.0.1->ipython>=6.1.0->ipywidgets) (0.2.5)\n",
      "Requirement already satisfied: pyparsing!=3.0.5,>=2.0.2 in e:\\stock-crypto-research-with-deep-learning\\stockcrypto\\lib\\site-packages (from packaging->ipykernel>=4.5.1->ipywidgets) (3.0.9)\n",
      "Requirement already satisfied: asttokens>=2.1.0 in e:\\stock-crypto-research-with-deep-learning\\stockcrypto\\lib\\site-packages (from stack-data->ipython>=6.1.0->ipywidgets) (2.1.0)\n",
      "Requirement already satisfied: pure-eval in e:\\stock-crypto-research-with-deep-learning\\stockcrypto\\lib\\site-packages (from stack-data->ipython>=6.1.0->ipywidgets) (0.2.2)\n",
      "Requirement already satisfied: executing>=1.2.0 in e:\\stock-crypto-research-with-deep-learning\\stockcrypto\\lib\\site-packages (from stack-data->ipython>=6.1.0->ipywidgets) (1.2.0)\n",
      "Requirement already satisfied: six in e:\\stock-crypto-research-with-deep-learning\\stockcrypto\\lib\\site-packages (from asttokens>=2.1.0->stack-data->ipython>=6.1.0->ipywidgets) (1.16.0)\n",
      "Requirement already satisfied: pywin32>=1.0 in e:\\stock-crypto-research-with-deep-learning\\stockcrypto\\lib\\site-packages (from jupyter-core>=4.9.2->jupyter-client>=6.1.12->ipykernel>=4.5.1->ipywidgets) (305)\n",
      "Requirement already satisfied: platformdirs in e:\\stock-crypto-research-with-deep-learning\\stockcrypto\\lib\\site-packages (from jupyter-core>=4.9.2->jupyter-client>=6.1.12->ipykernel>=4.5.1->ipywidgets) (2.5.4)\n",
      "Installing collected packages: widgetsnbextension, jupyterlab-widgets, ipywidgets\n",
      "Successfully installed ipywidgets-8.0.2 jupyterlab-widgets-3.0.3 widgetsnbextension-4.0.3\n",
      "Note: you may need to restart the kernel to use updated packages.\n"
     ]
    },
    {
     "name": "stderr",
     "output_type": "stream",
     "text": [
      "\n",
      "[notice] A new release of pip available: 22.2.2 -> 22.3.1\n",
      "[notice] To update, run: python.exe -m pip install --upgrade pip\n"
     ]
    }
   ],
   "source": [
    "pip install ipywidgets"
   ]
  },
  {
   "cell_type": "code",
   "execution_count": 4,
   "id": "fa1951f7-349b-4e50-8a42-9e3ce75fb67d",
   "metadata": {},
   "outputs": [],
   "source": [
    "from bs4 import BeautifulSoup\n",
    "import requests\n",
    "from transformers import PegasusTokenizer, PegasusForConditionalGeneration"
   ]
  },
  {
   "cell_type": "markdown",
   "id": "b5c51f6f-189b-4c84-9616-cabe7188367c",
   "metadata": {},
   "source": [
    "# 2. Setup Summarization Model"
   ]
  },
  {
   "cell_type": "code",
   "execution_count": 5,
   "id": "4cc9a1ab-7fe2-467f-a90b-97e3b3369ff5",
   "metadata": {
    "collapsed": true,
    "jupyter": {
     "outputs_hidden": true
    },
    "tags": []
   },
   "outputs": [
    {
     "name": "stdout",
     "output_type": "stream",
     "text": [
      "Requirement already satisfied: sentencepiece in e:\\stock-crypto-research-with-deep-learning\\stockcrypto\\lib\\site-packages (0.1.97)\n",
      "Note: you may need to restart the kernel to use updated packages.\n"
     ]
    },
    {
     "name": "stderr",
     "output_type": "stream",
     "text": [
      "\n",
      "[notice] A new release of pip available: 22.2.2 -> 22.3.1\n",
      "[notice] To update, run: python.exe -m pip install --upgrade pip\n"
     ]
    }
   ],
   "source": [
    "pip install sentencepiece"
   ]
  },
  {
   "cell_type": "code",
   "execution_count": 6,
   "id": "49dec1cd-31b8-463d-867a-99b4828048e3",
   "metadata": {},
   "outputs": [
    {
     "name": "stderr",
     "output_type": "stream",
     "text": [
      "Downloading: 100%|████████████████████████████████████████████████████████████████| 2.28G/2.28G [00:48<00:00, 47.3MB/s]\n"
     ]
    }
   ],
   "source": [
    "model_name = \"human-centered-summarization/financial-summarization-pegasus\"\n",
    "tokenizer = PegasusTokenizer.from_pretrained(model_name)\n",
    "model = PegasusForConditionalGeneration.from_pretrained(model_name)"
   ]
  },
  {
   "cell_type": "markdown",
   "id": "2bfa62ed-a22f-48ce-907f-3155e5d539e6",
   "metadata": {},
   "source": [
    "# 3. Summarize a Single Article"
   ]
  },
  {
   "cell_type": "code",
   "execution_count": 12,
   "id": "235bea9b-8c74-4c03-8502-4fe6856d1496",
   "metadata": {},
   "outputs": [],
   "source": [
    "article_link = 'https://finance.yahoo.com/news/collapsed-ftx-owes-nearly-3-090734717.html'"
   ]
  },
  {
   "cell_type": "code",
   "execution_count": 13,
   "id": "def2a6a6-0be0-4526-8714-cdfbb9423ada",
   "metadata": {},
   "outputs": [],
   "source": [
    "r = requests.get(article_link)"
   ]
  },
  {
   "cell_type": "code",
   "execution_count": 14,
   "id": "12596fb1-49e0-4c7c-8d56-97b14126770f",
   "metadata": {},
   "outputs": [],
   "source": [
    "soup = BeautifulSoup(r.text, 'html.parser')"
   ]
  },
  {
   "cell_type": "code",
   "execution_count": 15,
   "id": "acdb8d41-94b8-4bb2-ac9e-24848fe4d563",
   "metadata": {},
   "outputs": [],
   "source": [
    "paragraphs =soup.find_all('p')"
   ]
  },
  {
   "cell_type": "code",
   "execution_count": 16,
   "id": "7009e32f-ae97-4237-a266-dab75162d7cd",
   "metadata": {},
   "outputs": [
    {
     "data": {
      "text/plain": [
       "[<p>(Reuters) - Cryptocurrency exchange FTX, which has filed for U.S. bankruptcy court protection, said it owes its 50 biggest creditors nearly $3.1 billion.</p>,\n",
       " <p>The exchange owes about $1.45 billion to its top ten creditors, it said in a court filing on Saturday, without naming them.</p>,\n",
       " <p>FTX and its affiliates filed for bankruptcy in Delaware on Nov. 11 in one of the highest-profile crypto blowups, leaving an estimated 1 million customers and other investors facing total losses in the billions of dollars.</p>,\n",
       " <p>The crypto exchange said on Saturday it has launched a strategic review of its global assets and is preparing for the sale or reorganization of some businesses.</p>,\n",
       " <p>(Reporting by Juby Babu in Bengaluru; Editing by Angus MacSwan)</p>]"
      ]
     },
     "execution_count": 16,
     "metadata": {},
     "output_type": "execute_result"
    }
   ],
   "source": [
    "paragraphs"
   ]
  },
  {
   "cell_type": "code",
   "execution_count": 17,
   "id": "58f53c08-2aa2-40e9-bc6b-25e13df07088",
   "metadata": {},
   "outputs": [],
   "source": [
    "text = [paragraph.text for paragraph in paragraphs]"
   ]
  },
  {
   "cell_type": "code",
   "execution_count": 19,
   "id": "1ed63a4c-d426-4e9a-9f40-936c66e2a8c0",
   "metadata": {},
   "outputs": [
    {
     "data": {
      "text/plain": [
       "['(Reuters) - Cryptocurrency exchange FTX, which has filed for U.S. bankruptcy court protection, said it owes its 50 biggest creditors nearly $3.1 billion.',\n",
       " 'The exchange owes about $1.45 billion to its top ten creditors, it said in a court filing on Saturday, without naming them.',\n",
       " 'FTX and its affiliates filed for bankruptcy in Delaware on Nov. 11 in one of the highest-profile crypto blowups, leaving an estimated 1 million customers and other investors facing total losses in the billions of dollars.',\n",
       " 'The crypto exchange said on Saturday it has launched a strategic review of its global assets and is preparing for the sale or reorganization of some businesses.',\n",
       " '(Reporting by Juby Babu in Bengaluru; Editing by Angus MacSwan)']"
      ]
     },
     "execution_count": 19,
     "metadata": {},
     "output_type": "execute_result"
    }
   ],
   "source": [
    "text"
   ]
  },
  {
   "cell_type": "code",
   "execution_count": 24,
   "id": "01a0e7db-e7bb-42f7-8029-4cd9827d4ec8",
   "metadata": {},
   "outputs": [],
   "source": [
    "words = ' '.join(text).split(' ')[:200]"
   ]
  },
  {
   "cell_type": "code",
   "execution_count": 26,
   "id": "62bf2af6-55f3-4200-b3f4-4bbfb3ca5c8c",
   "metadata": {},
   "outputs": [],
   "source": [
    "Article  = ' '.join(words)"
   ]
  },
  {
   "cell_type": "raw",
   "id": "2cc88351-2992-43f0-9911-e5604e77e0a5",
   "metadata": {},
   "source": []
  },
  {
   "cell_type": "code",
   "execution_count": 27,
   "id": "dbb5f7af-2afb-4bca-94a5-9295b7e74002",
   "metadata": {},
   "outputs": [
    {
     "data": {
      "text/plain": [
       "'(Reuters) - Cryptocurrency exchange FTX, which has filed for U.S. bankruptcy court protection, said it owes its 50 biggest creditors nearly $3.1 billion. The exchange owes about $1.45 billion to its top ten creditors, it said in a court filing on Saturday, without naming them. FTX and its affiliates filed for bankruptcy in Delaware on Nov. 11 in one of the highest-profile crypto blowups, leaving an estimated 1 million customers and other investors facing total losses in the billions of dollars. The crypto exchange said on Saturday it has launched a strategic review of its global assets and is preparing for the sale or reorganization of some businesses. (Reporting by Juby Babu in Bengaluru; Editing by Angus MacSwan)'"
      ]
     },
     "execution_count": 27,
     "metadata": {},
     "output_type": "execute_result"
    }
   ],
   "source": [
    "Article"
   ]
  },
  {
   "cell_type": "code",
   "execution_count": 29,
   "id": "c85d3ab7-4871-4ed1-9d68-748b24a03d95",
   "metadata": {},
   "outputs": [],
   "source": [
    "input_ids = tokenizer.encode(Article, return_tensors='pt')"
   ]
  },
  {
   "cell_type": "code",
   "execution_count": 30,
   "id": "32e6324d-e156-4722-a977-3219ed4623f0",
   "metadata": {},
   "outputs": [
    {
     "data": {
      "text/plain": [
       "tensor([[  143, 25445,   158,   233, 52399,  2264,  1091, 19227,   108,   162,\n",
       "           148,  3252,   118,   475,   107,   283,   107,  7073,  1462,  1471,\n",
       "           108,   243,   126, 26708,   203,  1149,  1715, 13433,  1517, 79924,\n",
       "          1722,   107,   139,  2264, 26708,   160, 41205,  1343,  1722,   112,\n",
       "           203,   349,  2069, 13433,   108,   126,   243,   115,   114,  1462,\n",
       "          5809,   124,  1327,   108,   347, 14537,   183,   107,  1091, 19227,\n",
       "           111,   203, 11834,  3252,   118,  7073,   115, 11005,   124,  4747,\n",
       "           107,  1073,   115,   156,   113,   109,  1330,   121, 12651, 11625,\n",
       "          6049,  5151,   108,  2096,   142,  3627,   305,   604,   527,   111,\n",
       "           176,  2714,  2931,   916,  5054,   115,   109, 13353,   113,  2729,\n",
       "           107,   139, 11625,  2264,   243,   124,  1327,   126,   148,  2365,\n",
       "           114,  3112,   933,   113,   203,  1122,  2718,   111,   117,  3946,\n",
       "           118,   109,   925,   132, 38771,   113,   181,  1098,   107,   143,\n",
       "         59739,   141, 13092,  1846, 51586,   115, 35386,   206, 31717,   141,\n",
       "         26491,  2603, 65261,   158,     1]])"
      ]
     },
     "execution_count": 30,
     "metadata": {},
     "output_type": "execute_result"
    }
   ],
   "source": [
    "input_ids"
   ]
  },
  {
   "cell_type": "code",
   "execution_count": 32,
   "id": "9667aa63-1d15-45c3-92f5-9a6668a07a37",
   "metadata": {},
   "outputs": [],
   "source": [
    "output = model.generate(input_ids, max_length=55, num_beams = 5, early_stopping=True)"
   ]
  },
  {
   "cell_type": "code",
   "execution_count": 33,
   "id": "8b88ae0a-02f7-47b6-a240-04bb03556931",
   "metadata": {},
   "outputs": [],
   "source": [
    "summary = tokenizer.decode(output[0] , skip_special_tokens=True)"
   ]
  },
  {
   "cell_type": "code",
   "execution_count": 34,
   "id": "3fe0b2d0-c413-4c29-8425-84a2e7b778f2",
   "metadata": {},
   "outputs": [
    {
     "data": {
      "text/plain": [
       "'FTX says it owes about $1.45 billion to its top ten creditors. Exchange filed for bankruptcy on Nov. 11 in one of the highest-profile blowups'"
      ]
     },
     "execution_count": 34,
     "metadata": {},
     "output_type": "execute_result"
    }
   ],
   "source": [
    "summary"
   ]
  },
  {
   "cell_type": "markdown",
   "id": "78ca8472-9895-4f3c-a473-4d4f261a5a18",
   "metadata": {},
   "source": [
    "# 3. Building a News and Sentiment Pipeline"
   ]
  },
  {
   "cell_type": "code",
   "execution_count": 36,
   "id": "2048fcd4-81c3-48fb-97bb-002ecc69f533",
   "metadata": {},
   "outputs": [],
   "source": [
    "monitored = ['TSL', 'ETH', 'BTC', 'META' , 'AAPL']"
   ]
  },
  {
   "cell_type": "markdown",
   "id": "c8d74894-856d-4dd3-bd3d-7d74170b7bc0",
   "metadata": {},
   "source": [
    "## 3.1 Search for stock news using  Yahoo Finance"
   ]
  },
  {
   "cell_type": "code",
   "execution_count": 61,
   "id": "f87fa3f3-c101-4751-a9c4-44dca9526cec",
   "metadata": {},
   "outputs": [],
   "source": [
    "def search_news_urls(ticker):\n",
    "    url = f\"https://news.search.yahoo.com/search;_ylt=AwrFD22hPHpjY78wWg9XNyoA;_ylu=Y29sbwNiZjEEcG9zAzEEdnRpZAMEc2VjA3BpdnM-?p={ticker}&fr2=piv-web&fr=news\"\n",
    "    r = requests.get(url)\n",
    "    soup = BeautifulSoup(r.text, 'html.parser')\n",
    "    atags = soup.find_all('a', attrs={'class':'thmb'})\n",
    "    links = [link['href'] for link in atags]\n",
    "    return links\n",
    "             "
   ]
  },
  {
   "cell_type": "code",
   "execution_count": 62,
   "id": "ef34c466-6ee7-4e69-b209-525f53b78971",
   "metadata": {},
   "outputs": [
    {
     "data": {
      "text/plain": [
       "['https://cointelegraph.com/news/gbtc-bitcoin-discount-nears-50-on-ftx-woes-as-investors-stock-up',\n",
       " 'https://www.fool.com/investing/2022/11/20/biggest-crypto-investors-are-dollar-cost-averaging/',\n",
       " 'https://www.forbes.com/sites/billybambrough/2022/11/20/in-huge-trouble-10-billion-earthquake-could-be-about-to-cause-bitcoin-and-ethereum-price-chaos/',\n",
       " 'https://www.fool.com/investing/2022/11/15/should-you-buy-bitcoin-while-its-still-below-20000/',\n",
       " 'https://seekingalpha.com/article/4558726-bitcoin-could-drop-below-10k-crypto-winter',\n",
       " 'https://ca.investing.com/news/cryptocurrency-news/btc-still-has-bearish-momentum-to-overcome-price-levels-to-watch-2835359',\n",
       " 'https://ca.investing.com/news/cryptocurrency-news/btcs-current-position-in-its-market-cycle-is-a-decisive-point-2835767',\n",
       " 'https://ca.investing.com/news/cryptocurrency-news/can-the-bulls-push-btc-price-to-17000-in-a-lethargic-backdrop-2835875',\n",
       " 'https://cointelegraph.com/news/bitcoin-sees-record-stock-to-flow-miss-btc-price-model-creator-brushes-off-ftx-blip',\n",
       " 'https://mercurial.cointelegraph.com/news/bitcoin-scarcity-rises-as-bad-exchanges-take-1-2m-btc-out-of-circulation',\n",
       " 'https://finance.yahoo.com/video/ftx-fallout-sectors-could-benefit-152757395.html?fr=sycsrp_catchall',\n",
       " 'https://finance.yahoo.com/video/bitcoin-above-16k-cryptos-ignore-153158685.html?fr=sycsrp_catchall',\n",
       " 'https://finance.yahoo.com/video/kevin-o-leary-ftx-collateral-153221392.html?fr=sycsrp_catchall',\n",
       " 'https://finance.yahoo.com/video/bitcoin-flirts-17k-report-hints-151002573.html?fr=sycsrp_catchall',\n",
       " 'https://finance.yahoo.com/video/bitcoin-holds-above-16k-amid-203833401.html?fr=sycsrp_catchall',\n",
       " 'https://finance.yahoo.com/video/advisorshares-ceo-bitcoin-bottom-ftx-203333448.html?fr=sycsrp_catchall']"
      ]
     },
     "execution_count": 62,
     "metadata": {},
     "output_type": "execute_result"
    }
   ],
   "source": [
    "search_news_urls('BTC')"
   ]
  },
  {
   "cell_type": "markdown",
   "id": "d30855f0-cda1-49a8-8dfc-8d219200e384",
   "metadata": {},
   "source": [
    "# 4. Search and Scrape Urls's "
   ]
  },
  {
   "cell_type": "code",
   "execution_count": 69,
   "id": "68718ff0-9c89-40e9-b965-c035d89200de",
   "metadata": {},
   "outputs": [],
   "source": [
    "def scrape_and_process(ticker):\n",
    "    ARTICLES = []\n",
    "    urls = search_news_urls(ticker)\n",
    "    for url in urls:\n",
    "        r = requests.get(url)\n",
    "        soup = BeautifulSoup(r.text,'html.parser')\n",
    "        paragraphs = soup.find_all('p')\n",
    "        text = [paragraph.text for paragraph in paragraphs]\n",
    "        try:\n",
    "            words = ' '.join(text).split(' ')[:400]\n",
    "        except:\n",
    "            pass\n",
    "        else:\n",
    "            words = ' '.join(text).split(' ')[:200]\n",
    "        article = ' '.join(words)\n",
    "        if  not article.startswith('This website is using a security service') and not article.startswith('Thank you for your patience') and len(article) > 0:\n",
    "            ARTICLES.append(article)\n",
    "    return ARTICLES\n",
    "    \n",
    "    "
   ]
  },
  {
   "cell_type": "code",
   "execution_count": 70,
   "id": "be7c5b6a-eafc-40b5-8634-4cc41e7ac780",
   "metadata": {},
   "outputs": [
    {
     "data": {
      "text/plain": [
       "[\"Bitcoin\\nBTC\\n and cryptocurrencies have been left reeling by the sudden collapse of major crypto exchange FTX this month (though Elon Musk has issued a surprise 2023 crypto prediction). Subscribe now to Forbes' CryptoAsset & Blockchain Advisor and successfully navigate the latest bitcoin and crypto market crash The bitcoin price has plummeted under $17,000 per bitcoin, down from almost $70,000 12 months ago, while ethereum has collapsed toward $1,000 per ether with JPMorgan warning the price crash could be just getting started. Now, fears are swirling that $10 billion bitcoin and crypto giant Digital Currency Group (DCG) could be in trouble after its crypto lender Genesis was forced to pause withdrawals and reports emerged it's seeking an emergency $1 billion loan. It's in a brutal bear market that you need up-to-date information the most! Sign up now for the free CryptoCodex—A daily newsletter for traders, investors and the crypto-curious that will keep you ahead of the market The price of bitcoin and ethereum have been hard hit by the collapse of crypto exchange FTX, pushing ... [+] the crypto industry to the brink. This week, Genesis, one of the biggest crypto lenders that makes up part of DCG's sprawling crypto empire,\",\n",
       " 'Founded in 1993 by brothers Tom and David Gardner, The Motley Fool helps millions of people attain financial freedom through our website, podcasts, books, newspaper column, radio show, and premium investing services. Founded in 1993 by brothers Tom and David Gardner, The Motley Fool helps millions of people attain financial freedom through our website, podcasts, books, newspaper column, radio show, and premium investing services. Motley Fool Issues Rare “All In” Buy Alert \\nYou’re reading a free article with opinions that may differ from The Motley Fool’s Premium Investing Services. Become a Motley Fool member today to get instant access to our top analyst recommendations, in-depth research, investing resources, and more.\\nLearn More\\n Despite the epic crypto market meltdown, two of the biggest crypto investors in the world are doubling down on their crypto bets. On Nov. 16, the president of El Salvador, Nayib Bukele, announced his country would be buying one Bitcoin (BTC -0.48%) per day, every day, starting on Nov. 17. Almost immediately afterward, crypto entrepreneur Justin Sun announced he would adopt the same Bitcoin strategy. This Bitcoin strategy is, quite frankly, the ultimate way to dollar-cost average into crypto. Both investors are committed to buying Bitcoin every day, at',\n",
       " \"Founded in 1993 by brothers Tom and David Gardner, The Motley Fool helps millions of people attain financial freedom through our website, podcasts, books, newspaper column, radio show, and premium investing services. Founded in 1993 by brothers Tom and David Gardner, The Motley Fool helps millions of people attain financial freedom through our website, podcasts, books, newspaper column, radio show, and premium investing services. Motley Fool Issues Rare “All In” Buy Alert \\nYou’re reading a free article with opinions that may differ from The Motley Fool’s Premium Investing Services. Become a Motley Fool member today to get instant access to our top analyst recommendations, in-depth research, investing resources, and more.\\nLearn More\\n Bitcoin (BTC -0.49%) bulls have reason to be nervous. In the span of just a week, the entire investment narrative surrounding Bitcoin seems to have shifted, thanks to the spectacular meltdown of cryptocurrency exchange FTX (FTT -3.63%). On Nov. 9, the price of Bitcoin fell below the $16,000 mark, and it was briefly trading at its lowest price in nearly two years. This after Bitcoin had been trading near the $20,000 level for months.\\xa0For the year, Bitcoin is still down 65%. That doesn't seem to paint an overly attractive\",\n",
       " \"  Ja'Crispy Bitcoin (BTC-USD) has been stuck in a crypto winter since some time now, which the picture above this article very fittingly illustrates. While worldwide markets seemed to recover during the last couple of weeks, there seems to be no let-up for cryptocurrencies with a never-ending stream of bad news for Bitcoin and crypto investors. Of course, most notably the sudden bankruptcy of FTX (FTT-USD) which has the potential to negatively affect Bitcoin in the near future, and might even trigger a larger crisis. This is not a wholly unprecedented situation. Bitcoin has had its problems in the past, for instance in 2014. Most Bitcoin investors will have likely heard about Mt. Gox. Mt. Gox was a large currency exchange which, at one point, handled about 70% of Bitcoin transactions worldwide. This exchange already experienced some problems with hacks and leaks in the years leading up to 2014, but in February 2014 the firm went bankrupt due to a bug in their software leading to stolen Bitcoin. A company as large as this, handling 70% of worldwide transactions in 2014 might have been an even larger negative event for Bitcoin than the recent FTX downfall. The Mt. Gox\"]"
      ]
     },
     "execution_count": 70,
     "metadata": {},
     "output_type": "execute_result"
    }
   ],
   "source": [
    "scrape_and_process('BTC')"
   ]
  },
  {
   "cell_type": "code",
   "execution_count": 71,
   "id": "643ca2f5-006c-4d54-acbc-954163080f71",
   "metadata": {},
   "outputs": [],
   "source": [
    "all_tickers ={\n",
    "    ticker:scrape_and_process(ticker) for ticker in monitored}"
   ]
  },
  {
   "cell_type": "code",
   "execution_count": 72,
   "id": "cda441ae-2bfe-47ab-92fe-dfa731af6e90",
   "metadata": {},
   "outputs": [
    {
     "data": {
      "text/plain": [
       "{'TSL': ['Lockdowns have devastated Europe\\'s ski season. And left skiers and snowboarders looking for something to do. Now that\\'s creating a surprise winner amidst the business turmoil. Demand for snow shoes has rocketed. Using them doesn\\'t require a ski lift. And hiking into the wilderness is natural social distancing. Philippe Gallay is the boss of TSL, the world\\'s biggest maker of snow shoes. He says orders are off the chart: \"For us, it is quite stressful, but it\\'s a good stress, because we are crumbling under orders, we don\\'t know how we will make it - it\\'s rather a good stress.\" Last month TSL\\'s factory in Annecy took orders for 100,000 pairs. That\\'s three times what it would normally do in a whole year. Gallay has quadrupled his usual workforce, and has the factory running 24/7. But he still has a backlog of 40,000 orders. Over at the ski school, director Gregoire Chavanel has noticed the change: \"We rent equipment at the ski resort, and we have around 100 snowshoes, which usually is enough. But right now, on busy days, it is taken by storm, and at 9 a.m., or around 9:30 a.m., there is not a snowshoe left.\" Government sources'],\n",
       " 'ETH': ['\\n\\n\\n\\n\\nFilip L.\\n\\nFXStreet\\n\\n\\n\\n\\nFollow\\n\\n\\n\\nFollowing\\n\\n\\n Ethereum (ETH) price is still under much pressure from the upside as several technical and tail risk pressures keep price action muted. Although the rally in September looked promising, bulls could not gain traction above the 200-day Simple Moving Average. The collapse of FTX could not have come at a worse crucial moment as it erased all the efforts built up over September and delivered a hard reminder to traders: tail risks are there to stay and are not going away anytime soon. Ethereum price has had a very binary path in its history where it was simple to be long and stay long for 2021 and become simply bearish for 2022. Thus far, the easy part, as it becomes very choppy now for both bulls and bears to identify where and when to trade and how. A good, solid, and strict trading plan is vital to surviving this market momentum.\\xa0 Current tail risks are thus crushing ETH price as inflation, the overall performance of the dollar this year and the situation in Ukraine, in addition to the technical from the 55-day and the 200-day SMA as caps on the upside. ETH looks to be in no condition',\n",
       "  '\\n\\n\\n\\n\\nEkta Mourya\\n\\nFXStreet\\n\\n\\n\\n\\nFollow\\n\\n\\n\\nFollowing\\n\\n\\n Ethereum whales have been scooping up the altcoin through the recent dip in its price. The second-largest cryptocurrency by market capitalization is close to its psychological support level at $1,200 and analysts expect a recovery in ETH price.\\xa0 Also read: JP Morgan, Well Fargo, Bank of America potentially exposed to Samuel Bankman-Fried’s FTX exchange Large wallet investors on the Ethereum blockchain scooped up the altcoin. Whales engaged in mass accumulation of ETH through the recent dip in the second-largest crypto by market cap.\\xa0 Ethereum price nosedived from the $1,293 level, close to the psychological support level of $1,200. The altcoin yielded 7% losses last week and 21% over the past two weeks. FTX exchange contagion spread to top cryptocurrency entities in the space and negatively influenced Bitcoin, Ethereum and altcoin prices.\\xa0  Ethereum Shark and Whale Addresses aggressively accumulated ETH\\xa0 Tether announced a chain swap, moving USDT tokens from one blockchain to another. On Friday November 18, 1 billion USDT tokens were swapped from the Solana blockchain to Ethereum.\\xa0 This move by the stablecoin giant followed Binance’s decision to temporarily delist USDT on the Solana blockchain. Multiple cryptocurrency exchanges followed Binance and delisted Solana-based stablecoins without providing an',\n",
       "  'Search Bored Ape Yacht Club hype was in full swing earlier this year as celebrities “aped into” the pricey Ethereum NFT collection. Some have even used their Apes to create products, themed restaurants, live performances, and more. But the buzz has faded amid the crypto bear market, and the price to join the exclusive club has been dropping lower and lower in recent weeks. And a “floor” Bored Ape, like the one that singer Justin Bieber spent $1.3 million worth of ETH to buy in January, now sells for a tiny fraction of that price point. As of this writing, the floor price for the Bored Ape Yacht Club—that is, the price of the cheapest-available NFT listed on a marketplace—is about 58.2 ETH, per data from NFT Price Floor, or about $69,800. On Monday, the floor price dipped below $60,000 for the second time this month, but it ticked back upwards throughout the day on Tuesday. It’s been a rough November for the Bored Apes, as the floor price in USD has fallen 33% since the start of the month. Last week’s collapse of popular crypto exchange FTX had an apparent impact on the NFT market, driving down crypto prices',\n",
       "  '\\n\\n\\n\\n\\nFilip L.\\n\\nFXStreet\\n\\n\\n\\n\\nFollow\\n\\n\\n\\nFollowing\\n\\n\\n Ethereum (ETH) price action has been in the crosshairs since Wednesday after claims that crypto platform Genesis blocked any payouts and repayments of funds. It might be the next domino in the wake of the FTX meltdown from last week. Several other platforms are moving to similar actions, foremost of which is even the Winklevoss-backed platform Gemini delaying withdrawals on its lending program. Again, the alarm bells are flashing for cryptocurrencies, and the price action perfectly translates that sentiment. Ethereum price is down 1% for the day in early European trading as specifically cryptocurrencies are battered yet again on overnight news that crypto provider Genesis is halting withdrawals. To make matters worse, even the famous and well-known Winklevoss twins, known for their leading role in Bitcoin and Facebook, have cut the withdrawals from their lending program in service provider Gemini. This could spell trouble ahead as the market cap of Gemini is much bigger than FTX.\\xa0 ETH price action technically is in an area that fits the current narrative in cryptocurrencies. The drop of 2.88% on Wednesday made ETH price close below the red descending trend line. Bulls have been trying, but the rejection came in hard and'],\n",
       " 'BTC': [\"Bitcoin\\nBTC\\n and cryptocurrencies have been left reeling by the sudden collapse of major crypto exchange FTX this month (though Elon Musk has issued a surprise 2023 crypto prediction). Subscribe now to Forbes' CryptoAsset & Blockchain Advisor and successfully navigate the latest bitcoin and crypto market crash The bitcoin price has plummeted under $17,000 per bitcoin, down from almost $70,000 12 months ago, while ethereum has collapsed toward $1,000 per ether with JPMorgan warning the price crash could be just getting started. Now, fears are swirling that $10 billion bitcoin and crypto giant Digital Currency Group (DCG) could be in trouble after its crypto lender Genesis was forced to pause withdrawals and reports emerged it's seeking an emergency $1 billion loan. It's in a brutal bear market that you need up-to-date information the most! Sign up now for the free CryptoCodex—A daily newsletter for traders, investors and the crypto-curious that will keep you ahead of the market The price of bitcoin and ethereum have been hard hit by the collapse of crypto exchange FTX, pushing ... [+] the crypto industry to the brink. This week, Genesis, one of the biggest crypto lenders that makes up part of DCG's sprawling crypto empire,\",\n",
       "  'Founded in 1993 by brothers Tom and David Gardner, The Motley Fool helps millions of people attain financial freedom through our website, podcasts, books, newspaper column, radio show, and premium investing services. Founded in 1993 by brothers Tom and David Gardner, The Motley Fool helps millions of people attain financial freedom through our website, podcasts, books, newspaper column, radio show, and premium investing services. Motley Fool Issues Rare “All In” Buy Alert \\nYou’re reading a free article with opinions that may differ from The Motley Fool’s Premium Investing Services. Become a Motley Fool member today to get instant access to our top analyst recommendations, in-depth research, investing resources, and more.\\nLearn More\\n Despite the epic crypto market meltdown, two of the biggest crypto investors in the world are doubling down on their crypto bets. On Nov. 16, the president of El Salvador, Nayib Bukele, announced his country would be buying one Bitcoin (BTC -0.44%) per day, every day, starting on Nov. 17. Almost immediately afterward, crypto entrepreneur Justin Sun announced he would adopt the same Bitcoin strategy. This Bitcoin strategy is, quite frankly, the ultimate way to dollar-cost average into crypto. Both investors are committed to buying Bitcoin every day, at',\n",
       "  \"Founded in 1993 by brothers Tom and David Gardner, The Motley Fool helps millions of people attain financial freedom through our website, podcasts, books, newspaper column, radio show, and premium investing services. Founded in 1993 by brothers Tom and David Gardner, The Motley Fool helps millions of people attain financial freedom through our website, podcasts, books, newspaper column, radio show, and premium investing services. Motley Fool Issues Rare “All In” Buy Alert \\nYou’re reading a free article with opinions that may differ from The Motley Fool’s Premium Investing Services. Become a Motley Fool member today to get instant access to our top analyst recommendations, in-depth research, investing resources, and more.\\nLearn More\\n Bitcoin (BTC -0.49%) bulls have reason to be nervous. In the span of just a week, the entire investment narrative surrounding Bitcoin seems to have shifted, thanks to the spectacular meltdown of cryptocurrency exchange FTX (FTT -3.63%). On Nov. 9, the price of Bitcoin fell below the $16,000 mark, and it was briefly trading at its lowest price in nearly two years. This after Bitcoin had been trading near the $20,000 level for months.\\xa0For the year, Bitcoin is still down 65%. That doesn't seem to paint an overly attractive\",\n",
       "  \"  Ja'Crispy Bitcoin (BTC-USD) has been stuck in a crypto winter since some time now, which the picture above this article very fittingly illustrates. While worldwide markets seemed to recover during the last couple of weeks, there seems to be no let-up for cryptocurrencies with a never-ending stream of bad news for Bitcoin and crypto investors. Of course, most notably the sudden bankruptcy of FTX (FTT-USD) which has the potential to negatively affect Bitcoin in the near future, and might even trigger a larger crisis. This is not a wholly unprecedented situation. Bitcoin has had its problems in the past, for instance in 2014. Most Bitcoin investors will have likely heard about Mt. Gox. Mt. Gox was a large currency exchange which, at one point, handled about 70% of Bitcoin transactions worldwide. This exchange already experienced some problems with hacks and leaks in the years leading up to 2014, but in February 2014 the firm went bankrupt due to a bug in their software leading to stolen Bitcoin. A company as large as this, handling 70% of worldwide transactions in 2014 might have been an even larger negative event for Bitcoin than the recent FTX downfall. The Mt. Gox\",\n",
       "  'The global crypto market has continued to face problems due to ongoing bearishness. The recent changes show that Bitcoin, Binance Coin, and others have turned recessive. The alternating pattern of losses and gains has continued for a lasting while. The impact of this situation is evident from the fleeing investors who have continued to go for sell-offs. If the current situation persists, the market will lose a significant portion of its value to bearishness. AAPL STZ TSLA AMZN South Korea has begun to investigate crypto exchanges for listing native tokens. The initial investigations show that all crypto exchanges performed lawful operations across the country. However, the FLATA exchange is suspected of listing its in-house token, FLAT in January 2020. Native cryptocurrencies have been the biggest reason for the demise of various exchanges and ecosystems in 2022. The most recent of these is FTX which collapsed as the result of hacking and mass withdrawals. The financial authority of Korea, KoFIU, launched a probe into crypto exchanges in relation to issuing their in-house tokens. FTX and 130 of its affiliated firms filed for bankruptcy due to the price crash of FTT. The probe from the financial regulatory authority is to ensure that'],\n",
       " 'META': [\"Your guide to a better future The best VR headset comes with Beat Saber and Resident Evil 4, too. Scott Stein Editor at Large I started with CNET reviewing laptops in 2009. Now I explore wearable tech, VR/AR, tablets, gaming and future/emerging trends in our changing world. Other obsessions include magic, immersive theater, puzzles, board games, cooking, improv and the New York Jets. The best VR headset right now is still the Meta Quest 2, and a limited sale bundle called the Meta Quest 2 Special Edition brings its price back down to make up for the $100 price hike it got earlier this year. At $350, the 128GB Quest 2 comes with Beat Saber and Resident Evil 4, and it's well worth getting while it's available. It's one of the best Black Friday deals on VR we've seen. Meta is releasing a whole new Quest 3 next year, likely with better features at a similar price, which is the one reason you might want to hold back. Even so, Beat Saber and Resident Evil 4 are two of the best games on the Quest 2, and the bundle with those games is $50 less than the Quest 2 was\",\n",
       "  'Your guide to a better future Galactica was supposed to help \"organize science.\" Instead, it spewed misinformation. Jackson Ryan Science Editor Jackson Ryan is CNET\\'s award-winning science editor. He used to be a scientist but he realized he was not very happy sitting at a lab bench all day. Now he has the best job in the world, telling stories about space, the planet, climate change and the people working at the frontiers of human knowledge. He also owns a lot of ugly Christmas sweaters. Tweet him. In the first year of the pandemic, science happened at light speed. More than 100,000 papers were published on COVID in those first 12 months -- an unprecedented human effort that produced an unprecedented deluge of new information. It would have been impossible to read and comprehend every one of those studies. No human being could (and, perhaps, none would want to). But, in theory, Galactica could. Galactica is an artificial intelligence developed by Meta AI (formerly known as Facebook Artificial Intelligence Research) with the intention of using machine learning to \"organize\\xa0science.\" It\\'s caused a bit of a stir since a demo version was released online last week, with critics suggesting it produced',\n",
       "  \"Holiday Gift Guide 2022 From head straps to charging docks, here are the best accessories to buy to make your Quest 2 work more like the Quest Pro. The Meta Quest Pro isn’t for everyone. At $1,500, with a specific focus on productivity, the Quest Pro is designed for a niche kind of virtual reality user. Which is a bummer, because many of the headset's improvements, such as the adjustable strap with built-in battery and the charging dock, are a marked improvement over the more affordable Quest 2. Luckily, the Quest 2 has been around the block and there are plenty of accessories that can take the great little headset into a space that’s decidedly more “Pro.” If you’re looking to get a taste of the Quest Pro life without spending the equivalent amount for an office setup, or just want to start your VR experience off on the right foot this holiday season, here are the best accessories that'll upgrade your Quest 2. Meta has sold a fair number of Quest 2 headsets, but if you haven’t bought in yet, here are some things to consider. The company recently raised the price of the Quest 2 from $299 to\",\n",
       "  '\\n Thousands of Meta staff flocked to the anonymous professional network Blind the day before Mark Zuckerberg announced mass job cuts, according to its co-founder.On the day before the Facebook founder announced 11,000 job cuts, close to 3,000 Meta employees signed up to the platform, Kyum Kim told Insider.\\xa0 Blind has more than 64,000 Meta employees signed up on its platform, which it says is more than three quarters of the workforce. More than 7,000 Meta staff have signed up in the past two weeks.\\xa0 \"I thought that was pretty mind-blowing,\" Kim said. \"We\\'ve definitely seen much more usage in the recent days.\" Blind users can only post a review of a company they work for. The platform gauges the professional status of its users by requiring them to provide their work email address, job title and employer when joining. Some 44 employee reviews of Meta were posted on Blind on November 9 and 10, with many using the opportunity to hit out at Zuckerberg. Some reviews were positive, however. Kim told Insider in an interview that discussion \"naturally carries over\" to public channels on its site when layoffs occur as people are looking for new opportunities and are gauging',\n",
       "  'Horizon Worlds If there was a sea change moment for Meta over the past few months, it was probably Mark Zuckerberg posting a single metaverse selfie with his expressionless avatar and clip art images of world landmarks behind him. The image went viral, and caused Meta to go on the defensive talking about future improvements to its main metaverse, Horizon Worlds. But all we have is the present and what actually exists on Meta’s platform at the moment. And I’ve just watched another video that should dry up any lingering confidence that whatever Mark Zuckerberg is building here is actually the future. Meta Horizon posted this tweet this week about an “event” happening inside the Metaverse in which an unseen Godzilla has stepped on…a Wendy’s. In the Wendyverse. UPDATE: Meta Horizon has now deleted the tweet and video without explanation. Here is a YouTube video showing what the experience looks like: A “once in a lifetime experience” indeed. Where do you even start with this? As ever, Horizon Worlds continues to look, aesthetically, just absolutely atrocious, with textureless, featureless avatars and landscapes that look like bad Roblox levels. Despite Mark Zuckerberg’s future promises of legs, avatars are still floating around',\n",
       "  'Meta has finally produced a follow-up to the excellent Meta Quest 2, and it may not be what you were expecting. Yes, the Meta Quest Pro is a VR headset, and a much more advanced one at that. It’s also $1,499.99, three times the price of the Meta Quest 2. And as the Pro moniker hints, this is aimed at enterprise users, professionals who want to integrate AR and VR into their workflows. It is available to consumers; enthusiasts can buy one without jumping through hoops, unlike some exclusively commercial headsets. But the Meta Quest Pro is clearly meant more for professionals than anyone else, and in that regard, it largely succeeds. The Meta Quest Pro is a sleek, black headset with a glossy front panel that makes it look more serious and professional than the bulbous, white Quest 2. The head strap, similar to the optional Elite Strap, foregoes the basic, three-point harness in favor of a single wraparound band with thickly padded sections on the front and back to cradle your head. The rear section contains the battery to help distribute the weight, and features a ring for tightening the headset. I found it largely comfortable and secure,',\n",
       "  'Welcome to\\xa0The Interchange! If you received this in your inbox, thank you for signing up and your vote of confidence. If you’re reading this as a post on our site, sign up\\xa0here\\xa0so you can receive it directly in the future. Every week, I’ll take a look at the hottest fintech news of the previous week. This will include everything from funding rounds to trends to an analysis of a particular space to hot takes on a particular company or phenomenon. There’s a lot of fintech news out there and it’s my job to stay on top of it — and make sense of it — so you can stay in the know. —\\xa0Mary Ann Hey, hey, Mary Ann here, feeling all sorry for myself because I have COVID for the first time when I should be grateful that it took so long for me to get it, right? Thankfully you can’t catch my germs through a computer or phone screen. I’ll be okay but as a result…you’re stuck with another slightly abbreviated version of this newsletter! Huge credit to, and gratitude for, TechCrunch’s Kyle Wiggers, who once again saved the day by writing up all the blurbs (and there were',\n",
       "  'Some of the U.S.’s biggest and best-known companies have recently announced sweeping layoffs, including Amazon and Meta. NBC’s Brian Chung reports in this week’s Sunday Focus on if the tech industry’s cutbacks are an indication of what’s to come for the U.S. economy. \"This couldn\\'t happen to a nicer guy,\" he quipped. \"I used to be great friends with Kevin McCarthy. He\\'s been the biggest disappointment of my life.\" \"It\\'s very unhealthy and a huge red flag. Always ends in a painful and messy breakup.\"View Entire Post › Taylor Heinicke will remain the Commanders’ starting quarterback for at least one more game. The terms of the Commanders’ trade with the Colts give the Commanders a strong incentive to keep Heinicke under center for at least two more games. If Wentz plays at least 70 percent of the Commanders’ offensive snaps this season, the [more] Idhao police say a \\'private party\\' drove homicide victims Madison Mogen and Kaylee Goncalves home the morning they were murdered after initially saying they Ubered. Tennessee looked poised to join the top four, but its shocking loss opens the door for a new top five team in this week\\'s coaches poll prediction. “I am very worried,”',\n",
       "  'USA Today Alabama Woman of the Year Meta Ellis talks about her work and life in Montgomery, Ala. on Wednesday November 16, 2022. \"This couldn\\'t happen to a nicer guy,\" he quipped. \"I used to be great friends with Kevin McCarthy. He\\'s been the biggest disappointment of my life.\" \"It\\'s very unhealthy and a huge red flag. Always ends in a painful and messy breakup.\"View Entire Post › Taylor Heinicke will remain the Commanders’ starting quarterback for at least one more game. The terms of the Commanders’ trade with the Colts give the Commanders a strong incentive to keep Heinicke under center for at least two more games. If Wentz plays at least 70 percent of the Commanders’ offensive snaps this season, the [more] Idhao police say a \\'private party\\' drove homicide victims Madison Mogen and Kaylee Goncalves home the morning they were murdered after initially saying they Ubered. Tennessee looked poised to join the top four, but its shocking loss opens the door for a new top five team in this week\\'s coaches poll prediction. “I am very worried,” writes UC Berkeley Law School Dean Erwin Chemerinsky. | Opinion QAnon was split by Trump\\'s 2024 announcement, with many followers',\n",
       "  'STORY: \"As interest rates have gone up,\" Gilbert added, \"those company\\'s valuations have gone down, and they have seen a major repricing in the markets. With that, the companies need to act on that and decrease their labor force in order to create profit margin again.\" Amazon\\'s layoff plans heralded a dramatic shift for a company known for its job creation and added shape to the latest dismissals befalling the technology sector. \"This couldn\\'t happen to a nicer guy,\" he quipped. \"I used to be great friends with Kevin McCarthy. He\\'s been the biggest disappointment of my life.\" \"It\\'s very unhealthy and a huge red flag. Always ends in a painful and messy breakup.\"View Entire Post › Taylor Heinicke will remain the Commanders’ starting quarterback for at least one more game. The terms of the Commanders’ trade with the Colts give the Commanders a strong incentive to keep Heinicke under center for at least two more games. If Wentz plays at least 70 percent of the Commanders’ offensive snaps this season, the [more] Idhao police say a \\'private party\\' drove homicide victims Madison Mogen and Kaylee Goncalves home the morning they were murdered after initially saying they Ubered. Tennessee looked',\n",
       "  'Profits aren\\'t as large as they\\'ve been in years past, particularly during the pandemic, and it has forced Facebook parent company to cut back 13% of its workforce—around 11,000 employees—including more than 700 workers in the Seattle-Bellevue area. \"This couldn\\'t happen to a nicer guy,\" he quipped. \"I used to be great friends with Kevin McCarthy. He\\'s been the biggest disappointment of my life.\" \"It\\'s very unhealthy and a huge red flag. Always ends in a painful and messy breakup.\"View Entire Post › Taylor Heinicke will remain the Commanders’ starting quarterback for at least one more game. The terms of the Commanders’ trade with the Colts give the Commanders a strong incentive to keep Heinicke under center for at least two more games. If Wentz plays at least 70 percent of the Commanders’ offensive snaps this season, the [more] Idhao police say a \\'private party\\' drove homicide victims Madison Mogen and Kaylee Goncalves home the morning they were murdered after initially saying they Ubered. Tennessee looked poised to join the top four, but its shocking loss opens the door for a new top five team in this week\\'s coaches poll prediction. QAnon was split by Trump\\'s 2024 announcement, with many',\n",
       "  'Meta is laying off 13% of its staff, or more than 11,000 employees, CEO Mark Zuckerberg told employees. \"This couldn\\'t happen to a nicer guy,\" he quipped. \"I used to be great friends with Kevin McCarthy. He\\'s been the biggest disappointment of my life.\" \"It\\'s very unhealthy and a huge red flag. Always ends in a painful and messy breakup.\"View Entire Post › Taylor Heinicke will remain the Commanders’ starting quarterback for at least one more game. The terms of the Commanders’ trade with the Colts give the Commanders a strong incentive to keep Heinicke under center for at least two more games. If Wentz plays at least 70 percent of the Commanders’ offensive snaps this season, the [more] Idhao police say a \\'private party\\' drove homicide victims Madison Mogen and Kaylee Goncalves home the morning they were murdered after initially saying they Ubered. Tennessee looked poised to join the top four, but its shocking loss opens the door for a new top five team in this week\\'s coaches poll prediction. “I am very worried,” writes UC Berkeley Law School Dean Erwin Chemerinsky. | Opinion QAnon was split by Trump\\'s 2024 announcement, with many followers believing it betrayed their deeply-held,'],\n",
       " 'AAPL': ['\\n                Access to this page has been denied because we believe you are using automation tools to browse the\\n                website.\\n             \\n                This may happen as a result of the following:\\n             \\n                Please make sure that Javascript and cookies are enabled on your browser and that you are not blocking\\n                them from loading.\\n             \\n                Reference ID: #dbd1614d-68e8-11ed-aebd-614d76414a70\\n             \\n     ',\n",
       "  \"\\n\\t\\t\\tCopyright © 2022 InvestorPlace Media, LLC. All rights reserved. 1125 N. Charles St, Baltimore, MD 21201.\\t\\t \\n\\t\\t\\tApple's leadership is thinking differently about layoffs\\t\\t This season has been marked by an ongoing list of layoffs, especially in tech. Many prominent tech companies have reported job cuts. Yesterday, Amazon (NASDAQ:AMZN) announced plans to lay off up to 10,00 workers ahead of the holiday season. But industry leader Apple (NASDAQ:AAPL) just confirmed that it’s actually doing the opposite. Apple CEO Tim Cook recently addressed his company’s hiring practices, noting that — while Apple is moving slowly on hiring — it’s still bringing new staff to certain departments. Since Cook disclosed this during an interview with CBS yesterday, AAPL stock has been in the green. It’s currently up more than 1% for the day. Let’s take a closer look at what this news means for Apple and AAPL stock investors. Today’s bump for AAPL stock comes on the heels of some bad news. This morning, Yahoo! Finance reported that Apple is among the Big Tech players that has failed to outperform the S&P 500 yet again. Apparently, the fourth quarter is “on track to be the 11th quarter in the past 10 years” that\",\n",
       "  'Founded in 1993 by brothers Tom and David Gardner, The Motley Fool helps millions of people attain financial freedom through our website, podcasts, books, newspaper column, radio show, and premium investing services. Founded in 1993 by brothers Tom and David Gardner, The Motley Fool helps millions of people attain financial freedom through our website, podcasts, books, newspaper column, radio show, and premium investing services. Motley Fool Issues Rare “All In” Buy Alert \\nYou’re reading a free article with opinions that may differ from The Motley Fool’s Premium Investing Services. Become a Motley Fool member today to get instant access to our top analyst recommendations, in-depth research, investing resources, and more.\\nLearn More\\n In much of 2020 and 2021, a mention of \"Robinhood stocks\" may have conjured up images of meme stocks that were making insane -- and mostly short-lived -- gains in the market. Now investors that use the Robinhood Markets (HOOD -2.96%) online trading platform appear to be shifting their focus to more stable companies, likely as the broad market sell-off of the past year caused many investors to take a more cautious approach to where they put their remaining money.\\xa0 For investors looking for a few great companies to',\n",
       "  \"Jimmy Grewal’s enthusiasm for Apple products is clear from his extensive collection, and now, thanks to the sale of an Apple I signed by its co-creator, Steve Wozniak, he plans to seek more opportunities to share that enthusiasm with the public. Grewal runs the AAPL Collection in Dubai, described as “one of the most comprehensive private collections of vintage Apple computers and accessories in the world.” Back in 2021, he met with Steve Wozniak, and presented the Apple co-founder with a motherboard from a 1976 Apple I, which Wozniak signed. Video from the encounter shows a surprised Wozniak, reuniting with the vintage piece of tech. Grewal told Storyful the “Woz” in fact signed two of the devices, one of which he sold for $340,100. “I intend to use the proceeds from the sale to expand the collection and create more opportunities to display it to the public,” Grewal said. Video of his 2021 moment with Wozniak has been going viral again since it was posted to TikTok on September 19. Credit: @aaplcollection via Storyful JIMMY GREWAL: I have one other thing that you may recognize. STEVE WOZNIAK: Oh, my god. - Yeah. - Oh, that's a-- - You want to\"]}"
      ]
     },
     "execution_count": 72,
     "metadata": {},
     "output_type": "execute_result"
    }
   ],
   "source": [
    "all_tickers"
   ]
  },
  {
   "cell_type": "markdown",
   "id": "e4f44aca-042d-4508-9d6a-942a89da7bbf",
   "metadata": {},
   "source": [
    "# 5. Summarize All Articles"
   ]
  },
  {
   "cell_type": "code",
   "execution_count": 73,
   "id": "2cbcda6c-569f-41e6-b908-35fff8499219",
   "metadata": {},
   "outputs": [],
   "source": [
    "def sumarize(articles):\n",
    "    summaries = []\n",
    "    for article in articles:\n",
    "        input_ids = tokenizer.encode(article, return_tensors='pt')\n",
    "        output = model.generate(input_ids, max_length=55, num_beams=5, early_stopping=True)\n",
    "        summary = tokenizer.decode(output[0], skip_special_tokens=True)\n",
    "        summaries.append(summary)\n",
    "    return summaries"
   ]
  },
  {
   "cell_type": "code",
   "execution_count": 75,
   "id": "e3e135d3-54fc-400f-ac8f-407a357b8d3c",
   "metadata": {},
   "outputs": [],
   "source": [
    "summaries = {ticker:sumarize(all_tickers[ticker]) for ticker in monitored}"
   ]
  },
  {
   "cell_type": "code",
   "execution_count": 77,
   "id": "d589dc4b-8d12-481d-81bd-7f3ae6206c1c",
   "metadata": {},
   "outputs": [
    {
     "data": {
      "text/plain": [
       "{'TSL': [\"Lockdowns have devastated Europe's ski season, but snowshoes are a hit.\"],\n",
       " 'ETH': ['Ethereum price has had a very binary path in its history.',\n",
       "  'Largest cryptocurrency by market cap is close to psychological support level. Chain swap moves USDT from Solana to Ethereum',\n",
       "  'The floor price for a Bored Ape Yacht Club is about $69,800. The price to join the exclusive club has fallen since the start of the month',\n",
       "  'Genesis pulls back on payouts, repayments of funds. Gemini has cut withdrawals from its lending program'],\n",
       " 'BTC': ['Digital Currency Group is seeking a $1 billion loan, reports say.',\n",
       "  'El Salvador to buy one Bitcoin per day, starting Nov. 17.',\n",
       "  'Bitcoin briefly hits lowest price in nearly two years after FTX crash.',\n",
       "  'FTX bankruptcy is not the first time Bitcoin has had problems.',\n",
       "  'KoFIU launches probe into crypto exchanges in relation to native tokens.'],\n",
       " 'META': ['Meta Quest 2 Special Edition brings back $100 price hike.',\n",
       "  'Meta AI developed Galactica, a machine learning program. But critics say it produced misleading information',\n",
       "  'Meta’s Quest 2 has been around the block for a while. Best accessories to upgrade your Quest 2',\n",
       "  'Kim says more than 7,000 Meta staff signed up in past two weeks. Some 44 employee reviews of Meta were posted on Blind on November 9 and 10',\n",
       "  'I’ve just watched a video in which an unseen Godzilla steps on a Wendy’s.',\n",
       "  'Meta Quest Pro is a sleek, professional-grade headset. It’s $1,499.99, three times the price of the Quest 2',\n",
       "  'I’ll take a look at the hottest fintech news of the previous week. Every week, I’ll take a look at the hottest fintech news of the previous week.',\n",
       "  'Some of the U.S.’s biggest and best-known companies have recently announced sweeping layoffs.',\n",
       "  'Donald Trump says he will run for president in 2024.',\n",
       "  'Amazon laid off more than 20,000 workers in its latest round of cuts. ‘It’s very unhealthy and a huge red flag,’ says Gilbert',\n",
       "  'Facebook cuts back 13% of its workforce, including more than 700 in Seattle.',\n",
       "  'Some of the quirkier snippets from the news in the world of sport:'],\n",
       " 'AAPL': ['All photographs are copyrighted.',\n",
       "  'Apple CEO says the company isn’t laying off workers. Apple is bringing new staff to certain departments',\n",
       "  'Hood stock index has been underperforming over the past year.',\n",
       "  'A 1976 Apple I motherboard sold for $340,100 at auction in Dubai. Jimmy Grewal’s collection is described as ‘one of the most comprehensive’']}"
      ]
     },
     "execution_count": 77,
     "metadata": {},
     "output_type": "execute_result"
    }
   ],
   "source": [
    "summaries\n"
   ]
  },
  {
   "cell_type": "markdown",
   "id": "292c10cc-dd5d-4ef1-8d4e-cf4a215f6455",
   "metadata": {},
   "source": [
    "# 6. Adding Sentiment Analysis"
   ]
  },
  {
   "cell_type": "code",
   "execution_count": 78,
   "id": "18112ee3-f2ec-4e4e-9b8c-7cc10b41630d",
   "metadata": {},
   "outputs": [],
   "source": [
    "from transformers import pipeline"
   ]
  },
  {
   "cell_type": "code",
   "execution_count": 79,
   "id": "28435a7e-0355-4c12-9177-b3f6d9ce6cf0",
   "metadata": {},
   "outputs": [
    {
     "name": "stderr",
     "output_type": "stream",
     "text": [
      "No model was supplied, defaulted to distilbert-base-uncased-finetuned-sst-2-english and revision af0f99b (https://huggingface.co/distilbert-base-uncased-finetuned-sst-2-english).\n",
      "Using a pipeline without specifying a model name and revision in production is not recommended.\n",
      "Downloading: 100%|█████████████████████████████████████████████████████████████████████| 629/629 [00:00<00:00, 315kB/s]\n",
      "Downloading: 100%|██████████████████████████████████████████████████████████████████| 268M/268M [00:05<00:00, 51.4MB/s]\n",
      "Downloading: 100%|██████████████████████████████████████████████████████████████████| 48.0/48.0 [00:00<00:00, 47.9kB/s]\n",
      "Downloading: 100%|███████████████████████████████████████████████████████████████████| 232k/232k [00:00<00:00, 468kB/s]\n"
     ]
    }
   ],
   "source": [
    "sentiment = pipeline(\"sentiment-analysis\")"
   ]
  },
  {
   "cell_type": "code",
   "execution_count": 80,
   "id": "6e37ff1c-3b4a-4e12-befe-7e1462fb5bec",
   "metadata": {},
   "outputs": [],
   "source": [
    "scores = {ticker:sentiment(summaries[ticker]) for ticker in monitored}"
   ]
  },
  {
   "cell_type": "code",
   "execution_count": 81,
   "id": "8f8703cf-300b-4dc3-a888-da46cba276b0",
   "metadata": {},
   "outputs": [
    {
     "data": {
      "text/plain": [
       "{'TSL': [{'label': 'POSITIVE', 'score': 0.9979446530342102}],\n",
       " 'ETH': [{'label': 'NEGATIVE', 'score': 0.9656684994697571},\n",
       "  {'label': 'POSITIVE', 'score': 0.9778663516044617},\n",
       "  {'label': 'NEGATIVE', 'score': 0.9996036887168884},\n",
       "  {'label': 'NEGATIVE', 'score': 0.9889696836471558}],\n",
       " 'BTC': [{'label': 'NEGATIVE', 'score': 0.9912248253822327},\n",
       "  {'label': 'NEGATIVE', 'score': 0.9547346830368042},\n",
       "  {'label': 'NEGATIVE', 'score': 0.9986482262611389},\n",
       "  {'label': 'NEGATIVE', 'score': 0.9993304014205933},\n",
       "  {'label': 'POSITIVE', 'score': 0.6017212271690369}],\n",
       " 'META': [{'label': 'NEGATIVE', 'score': 0.9226461052894592},\n",
       "  {'label': 'NEGATIVE', 'score': 0.998542308807373},\n",
       "  {'label': 'POSITIVE', 'score': 0.9697657823562622},\n",
       "  {'label': 'NEGATIVE', 'score': 0.9964600205421448},\n",
       "  {'label': 'NEGATIVE', 'score': 0.9951135516166687},\n",
       "  {'label': 'POSITIVE', 'score': 0.9981963038444519},\n",
       "  {'label': 'POSITIVE', 'score': 0.9979158043861389},\n",
       "  {'label': 'NEGATIVE', 'score': 0.9950607419013977},\n",
       "  {'label': 'POSITIVE', 'score': 0.9895532131195068},\n",
       "  {'label': 'NEGATIVE', 'score': 0.9991484880447388},\n",
       "  {'label': 'NEGATIVE', 'score': 0.9977995753288269},\n",
       "  {'label': 'POSITIVE', 'score': 0.9873369336128235}],\n",
       " 'AAPL': [{'label': 'NEGATIVE', 'score': 0.9776006937026978},\n",
       "  {'label': 'POSITIVE', 'score': 0.9767692685127258},\n",
       "  {'label': 'NEGATIVE', 'score': 0.9962263107299805},\n",
       "  {'label': 'POSITIVE', 'score': 0.999468982219696}]}"
      ]
     },
     "execution_count": 81,
     "metadata": {},
     "output_type": "execute_result"
    }
   ],
   "source": [
    "scores"
   ]
  },
  {
   "cell_type": "markdown",
   "id": "93eb1cf5-d9b8-482a-b314-7ee5bca8b38d",
   "metadata": {},
   "source": [
    "# 7. Export result as CSV Files"
   ]
  },
  {
   "cell_type": "code",
   "execution_count": 91,
   "id": "b17a5e05-d7f8-4685-96d8-52254ec00f78",
   "metadata": {},
   "outputs": [],
   "source": [
    "def create_output_array(summaries, scores):\n",
    "    output = []\n",
    "    for ticker in monitored:\n",
    "        for counter in range(len(summaries[ticker])):\n",
    "            output_this =[\n",
    "                ticker,\n",
    "                summaries[ticker][counter],\n",
    "                scores[ticker][counter]['label'],\n",
    "                round(scores[ticker][counter]['score']*100,2)\n",
    "            ]\n",
    "            output.append(output_this)\n",
    "    \n",
    "    return output"
   ]
  },
  {
   "cell_type": "code",
   "execution_count": 92,
   "id": "a83f27c0-69f2-46ea-85b3-59fb75db070c",
   "metadata": {},
   "outputs": [],
   "source": [
    "final_output = create_output_array(summaries,scores)"
   ]
  },
  {
   "cell_type": "code",
   "execution_count": 93,
   "id": "516decd5-f7d2-46e2-af7f-8966b2dcc9cb",
   "metadata": {},
   "outputs": [
    {
     "data": {
      "text/plain": [
       "[['TSL',\n",
       "  \"Lockdowns have devastated Europe's ski season, but snowshoes are a hit.\",\n",
       "  'POSITIVE',\n",
       "  99.79],\n",
       " ['ETH',\n",
       "  'Ethereum price has had a very binary path in its history.',\n",
       "  'NEGATIVE',\n",
       "  96.57],\n",
       " ['ETH',\n",
       "  'Largest cryptocurrency by market cap is close to psychological support level. Chain swap moves USDT from Solana to Ethereum',\n",
       "  'POSITIVE',\n",
       "  97.79],\n",
       " ['ETH',\n",
       "  'The floor price for a Bored Ape Yacht Club is about $69,800. The price to join the exclusive club has fallen since the start of the month',\n",
       "  'NEGATIVE',\n",
       "  99.96],\n",
       " ['ETH',\n",
       "  'Genesis pulls back on payouts, repayments of funds. Gemini has cut withdrawals from its lending program',\n",
       "  'NEGATIVE',\n",
       "  98.9],\n",
       " ['BTC',\n",
       "  'Digital Currency Group is seeking a $1 billion loan, reports say.',\n",
       "  'NEGATIVE',\n",
       "  99.12],\n",
       " ['BTC',\n",
       "  'El Salvador to buy one Bitcoin per day, starting Nov. 17.',\n",
       "  'NEGATIVE',\n",
       "  95.47],\n",
       " ['BTC',\n",
       "  'Bitcoin briefly hits lowest price in nearly two years after FTX crash.',\n",
       "  'NEGATIVE',\n",
       "  99.86],\n",
       " ['BTC',\n",
       "  'FTX bankruptcy is not the first time Bitcoin has had problems.',\n",
       "  'NEGATIVE',\n",
       "  99.93],\n",
       " ['BTC',\n",
       "  'KoFIU launches probe into crypto exchanges in relation to native tokens.',\n",
       "  'POSITIVE',\n",
       "  60.17],\n",
       " ['META',\n",
       "  'Meta Quest 2 Special Edition brings back $100 price hike.',\n",
       "  'NEGATIVE',\n",
       "  92.26],\n",
       " ['META',\n",
       "  'Meta AI developed Galactica, a machine learning program. But critics say it produced misleading information',\n",
       "  'NEGATIVE',\n",
       "  99.85],\n",
       " ['META',\n",
       "  'Meta’s Quest 2 has been around the block for a while. Best accessories to upgrade your Quest 2',\n",
       "  'POSITIVE',\n",
       "  96.98],\n",
       " ['META',\n",
       "  'Kim says more than 7,000 Meta staff signed up in past two weeks. Some 44 employee reviews of Meta were posted on Blind on November 9 and 10',\n",
       "  'NEGATIVE',\n",
       "  99.65],\n",
       " ['META',\n",
       "  'I’ve just watched a video in which an unseen Godzilla steps on a Wendy’s.',\n",
       "  'NEGATIVE',\n",
       "  99.51],\n",
       " ['META',\n",
       "  'Meta Quest Pro is a sleek, professional-grade headset. It’s $1,499.99, three times the price of the Quest 2',\n",
       "  'POSITIVE',\n",
       "  99.82],\n",
       " ['META',\n",
       "  'I’ll take a look at the hottest fintech news of the previous week. Every week, I’ll take a look at the hottest fintech news of the previous week.',\n",
       "  'POSITIVE',\n",
       "  99.79],\n",
       " ['META',\n",
       "  'Some of the U.S.’s biggest and best-known companies have recently announced sweeping layoffs.',\n",
       "  'NEGATIVE',\n",
       "  99.51],\n",
       " ['META',\n",
       "  'Donald Trump says he will run for president in 2024.',\n",
       "  'POSITIVE',\n",
       "  98.96],\n",
       " ['META',\n",
       "  'Amazon laid off more than 20,000 workers in its latest round of cuts. ‘It’s very unhealthy and a huge red flag,’ says Gilbert',\n",
       "  'NEGATIVE',\n",
       "  99.91],\n",
       " ['META',\n",
       "  'Facebook cuts back 13% of its workforce, including more than 700 in Seattle.',\n",
       "  'NEGATIVE',\n",
       "  99.78],\n",
       " ['META',\n",
       "  'Some of the quirkier snippets from the news in the world of sport:',\n",
       "  'POSITIVE',\n",
       "  98.73],\n",
       " ['AAPL', 'All photographs are copyrighted.', 'NEGATIVE', 97.76],\n",
       " ['AAPL',\n",
       "  'Apple CEO says the company isn’t laying off workers. Apple is bringing new staff to certain departments',\n",
       "  'POSITIVE',\n",
       "  97.68],\n",
       " ['AAPL',\n",
       "  'Hood stock index has been underperforming over the past year.',\n",
       "  'NEGATIVE',\n",
       "  99.62],\n",
       " ['AAPL',\n",
       "  'A 1976 Apple I motherboard sold for $340,100 at auction in Dubai. Jimmy Grewal’s collection is described as ‘one of the most comprehensive’',\n",
       "  'POSITIVE',\n",
       "  99.95]]"
      ]
     },
     "execution_count": 93,
     "metadata": {},
     "output_type": "execute_result"
    }
   ],
   "source": [
    "final_output"
   ]
  },
  {
   "cell_type": "code",
   "execution_count": 94,
   "id": "f6e4b27a-70a9-4f64-baa1-24e4cbc16ac2",
   "metadata": {},
   "outputs": [],
   "source": [
    "import csv"
   ]
  },
  {
   "cell_type": "code",
   "execution_count": 95,
   "id": "300d99b9-fa5c-4e4d-91fb-57486c552847",
   "metadata": {},
   "outputs": [],
   "source": [
    "with open('assetssummary.csv', mode ='w', newline='') as f:\n",
    "    csv_writer = csv.writer(f, delimiter=',',quotechar='\"', quoting=csv.QUOTE_MINIMAL)\n",
    "    csv_writer.writerows(final_output)"
   ]
  },
  {
   "cell_type": "markdown",
   "id": "e3a1972f-7e04-433a-85e5-112bc893fe49",
   "metadata": {},
   "source": [
    "# 8.EDA"
   ]
  },
  {
   "cell_type": "code",
   "execution_count": 97,
   "id": "d64b7a4c-db36-4684-924a-db07f374bba1",
   "metadata": {
    "collapsed": true,
    "jupyter": {
     "outputs_hidden": true
    },
    "tags": []
   },
   "outputs": [
    {
     "name": "stdout",
     "output_type": "stream",
     "text": [
      "Collecting pandas\n",
      "  Using cached pandas-1.5.1-cp310-cp310-win_amd64.whl (10.4 MB)\n",
      "Collecting pytz>=2020.1\n",
      "  Using cached pytz-2022.6-py2.py3-none-any.whl (498 kB)\n",
      "Requirement already satisfied: python-dateutil>=2.8.1 in e:\\stock-crypto-research-with-deep-learning\\stockcrypto\\lib\\site-packages (from pandas) (2.8.2)\n",
      "Requirement already satisfied: numpy>=1.21.0 in e:\\stock-crypto-research-with-deep-learning\\stockcrypto\\lib\\site-packages (from pandas) (1.23.5)\n",
      "Requirement already satisfied: six>=1.5 in e:\\stock-crypto-research-with-deep-learning\\stockcrypto\\lib\\site-packages (from python-dateutil>=2.8.1->pandas) (1.16.0)\n",
      "Installing collected packages: pytz, pandas\n",
      "Successfully installed pandas-1.5.1 pytz-2022.6\n",
      "Note: you may need to restart the kernel to use updated packages.\n"
     ]
    },
    {
     "name": "stderr",
     "output_type": "stream",
     "text": [
      "\n",
      "[notice] A new release of pip available: 22.2.2 -> 22.3.1\n",
      "[notice] To update, run: python.exe -m pip install --upgrade pip\n"
     ]
    }
   ],
   "source": [
    "pip install pandas"
   ]
  },
  {
   "cell_type": "code",
   "execution_count": 99,
   "id": "950cae8f-5eba-4e5a-b77a-868829fd5e24",
   "metadata": {
    "collapsed": true,
    "jupyter": {
     "outputs_hidden": true
    },
    "tags": []
   },
   "outputs": [
    {
     "name": "stdout",
     "output_type": "stream",
     "text": [
      "Collecting matplotlib\n",
      "  Using cached matplotlib-3.6.2-cp310-cp310-win_amd64.whl (7.2 MB)\n",
      "Collecting contourpy>=1.0.1\n",
      "  Using cached contourpy-1.0.6-cp310-cp310-win_amd64.whl (163 kB)\n",
      "Collecting fonttools>=4.22.0\n",
      "  Using cached fonttools-4.38.0-py3-none-any.whl (965 kB)\n",
      "Requirement already satisfied: python-dateutil>=2.7 in e:\\stock-crypto-research-with-deep-learning\\stockcrypto\\lib\\site-packages (from matplotlib) (2.8.2)\n",
      "Collecting pillow>=6.2.0\n",
      "  Using cached Pillow-9.3.0-cp310-cp310-win_amd64.whl (2.5 MB)\n",
      "Collecting kiwisolver>=1.0.1\n",
      "  Using cached kiwisolver-1.4.4-cp310-cp310-win_amd64.whl (55 kB)\n",
      "Requirement already satisfied: pyparsing>=2.2.1 in e:\\stock-crypto-research-with-deep-learning\\stockcrypto\\lib\\site-packages (from matplotlib) (3.0.9)\n",
      "Collecting cycler>=0.10\n",
      "  Using cached cycler-0.11.0-py3-none-any.whl (6.4 kB)\n",
      "Requirement already satisfied: numpy>=1.19 in e:\\stock-crypto-research-with-deep-learning\\stockcrypto\\lib\\site-packages (from matplotlib) (1.23.5)\n",
      "Requirement already satisfied: packaging>=20.0 in e:\\stock-crypto-research-with-deep-learning\\stockcrypto\\lib\\site-packages (from matplotlib) (21.3)\n",
      "Requirement already satisfied: six>=1.5 in e:\\stock-crypto-research-with-deep-learning\\stockcrypto\\lib\\site-packages (from python-dateutil>=2.7->matplotlib) (1.16.0)\n",
      "Installing collected packages: pillow, kiwisolver, fonttools, cycler, contourpy, matplotlib\n",
      "Successfully installed contourpy-1.0.6 cycler-0.11.0 fonttools-4.38.0 kiwisolver-1.4.4 matplotlib-3.6.2 pillow-9.3.0\n",
      "Note: you may need to restart the kernel to use updated packages.\n"
     ]
    },
    {
     "name": "stderr",
     "output_type": "stream",
     "text": [
      "\n",
      "[notice] A new release of pip available: 22.2.2 -> 22.3.1\n",
      "[notice] To update, run: python.exe -m pip install --upgrade pip\n"
     ]
    }
   ],
   "source": [
    "pip install matplotlib"
   ]
  },
  {
   "cell_type": "code",
   "execution_count": 100,
   "id": "641e5226-757e-44f5-b3f0-6e66df12b0a0",
   "metadata": {},
   "outputs": [],
   "source": [
    "import pandas as pd"
   ]
  },
  {
   "cell_type": "code",
   "execution_count": 101,
   "id": "4dc8902b-cbff-4223-9b65-2fd48f6cdb84",
   "metadata": {},
   "outputs": [],
   "source": [
    "from matplotlib import pyplot as plt"
   ]
  },
  {
   "cell_type": "code",
   "execution_count": 105,
   "id": "2dfdf2e0-7fa4-47ae-94b1-1c5336011549",
   "metadata": {},
   "outputs": [],
   "source": [
    "data = pd.read_csv('assetssummary.csv',names=['Stock', 'News', 'Label', 'Accuracy'],  encoding='cp1252')"
   ]
  },
  {
   "cell_type": "code",
   "execution_count": 106,
   "id": "764a8ccc-9d9c-4ac6-b383-0c8c3ca2256c",
   "metadata": {},
   "outputs": [
    {
     "data": {
      "text/html": [
       "<div>\n",
       "<style scoped>\n",
       "    .dataframe tbody tr th:only-of-type {\n",
       "        vertical-align: middle;\n",
       "    }\n",
       "\n",
       "    .dataframe tbody tr th {\n",
       "        vertical-align: top;\n",
       "    }\n",
       "\n",
       "    .dataframe thead th {\n",
       "        text-align: right;\n",
       "    }\n",
       "</style>\n",
       "<table border=\"1\" class=\"dataframe\">\n",
       "  <thead>\n",
       "    <tr style=\"text-align: right;\">\n",
       "      <th></th>\n",
       "      <th>Stock</th>\n",
       "      <th>News</th>\n",
       "      <th>Label</th>\n",
       "      <th>Accuracy</th>\n",
       "    </tr>\n",
       "  </thead>\n",
       "  <tbody>\n",
       "    <tr>\n",
       "      <th>0</th>\n",
       "      <td>TSL</td>\n",
       "      <td>Lockdowns have devastated Europe's ski season,...</td>\n",
       "      <td>POSITIVE</td>\n",
       "      <td>99.79</td>\n",
       "    </tr>\n",
       "    <tr>\n",
       "      <th>1</th>\n",
       "      <td>ETH</td>\n",
       "      <td>Ethereum price has had a very binary path in i...</td>\n",
       "      <td>NEGATIVE</td>\n",
       "      <td>96.57</td>\n",
       "    </tr>\n",
       "    <tr>\n",
       "      <th>2</th>\n",
       "      <td>ETH</td>\n",
       "      <td>Largest cryptocurrency by market cap is close ...</td>\n",
       "      <td>POSITIVE</td>\n",
       "      <td>97.79</td>\n",
       "    </tr>\n",
       "    <tr>\n",
       "      <th>3</th>\n",
       "      <td>ETH</td>\n",
       "      <td>The floor price for a Bored Ape Yacht Club is ...</td>\n",
       "      <td>NEGATIVE</td>\n",
       "      <td>99.96</td>\n",
       "    </tr>\n",
       "    <tr>\n",
       "      <th>4</th>\n",
       "      <td>ETH</td>\n",
       "      <td>Genesis pulls back on payouts, repayments of f...</td>\n",
       "      <td>NEGATIVE</td>\n",
       "      <td>98.90</td>\n",
       "    </tr>\n",
       "    <tr>\n",
       "      <th>5</th>\n",
       "      <td>BTC</td>\n",
       "      <td>Digital Currency Group is seeking a $1 billion...</td>\n",
       "      <td>NEGATIVE</td>\n",
       "      <td>99.12</td>\n",
       "    </tr>\n",
       "    <tr>\n",
       "      <th>6</th>\n",
       "      <td>BTC</td>\n",
       "      <td>El Salvador to buy one Bitcoin per day, starti...</td>\n",
       "      <td>NEGATIVE</td>\n",
       "      <td>95.47</td>\n",
       "    </tr>\n",
       "    <tr>\n",
       "      <th>7</th>\n",
       "      <td>BTC</td>\n",
       "      <td>Bitcoin briefly hits lowest price in nearly tw...</td>\n",
       "      <td>NEGATIVE</td>\n",
       "      <td>99.86</td>\n",
       "    </tr>\n",
       "    <tr>\n",
       "      <th>8</th>\n",
       "      <td>BTC</td>\n",
       "      <td>FTX bankruptcy is not the first time Bitcoin h...</td>\n",
       "      <td>NEGATIVE</td>\n",
       "      <td>99.93</td>\n",
       "    </tr>\n",
       "    <tr>\n",
       "      <th>9</th>\n",
       "      <td>BTC</td>\n",
       "      <td>KoFIU launches probe into crypto exchanges in ...</td>\n",
       "      <td>POSITIVE</td>\n",
       "      <td>60.17</td>\n",
       "    </tr>\n",
       "    <tr>\n",
       "      <th>10</th>\n",
       "      <td>META</td>\n",
       "      <td>Meta Quest 2 Special Edition brings back $100 ...</td>\n",
       "      <td>NEGATIVE</td>\n",
       "      <td>92.26</td>\n",
       "    </tr>\n",
       "    <tr>\n",
       "      <th>11</th>\n",
       "      <td>META</td>\n",
       "      <td>Meta AI developed Galactica, a machine learnin...</td>\n",
       "      <td>NEGATIVE</td>\n",
       "      <td>99.85</td>\n",
       "    </tr>\n",
       "    <tr>\n",
       "      <th>12</th>\n",
       "      <td>META</td>\n",
       "      <td>Meta’s Quest 2 has been around the block for a...</td>\n",
       "      <td>POSITIVE</td>\n",
       "      <td>96.98</td>\n",
       "    </tr>\n",
       "    <tr>\n",
       "      <th>13</th>\n",
       "      <td>META</td>\n",
       "      <td>Kim says more than 7,000 Meta staff signed up ...</td>\n",
       "      <td>NEGATIVE</td>\n",
       "      <td>99.65</td>\n",
       "    </tr>\n",
       "    <tr>\n",
       "      <th>14</th>\n",
       "      <td>META</td>\n",
       "      <td>I’ve just watched a video in which an unseen G...</td>\n",
       "      <td>NEGATIVE</td>\n",
       "      <td>99.51</td>\n",
       "    </tr>\n",
       "    <tr>\n",
       "      <th>15</th>\n",
       "      <td>META</td>\n",
       "      <td>Meta Quest Pro is a sleek, professional-grade ...</td>\n",
       "      <td>POSITIVE</td>\n",
       "      <td>99.82</td>\n",
       "    </tr>\n",
       "    <tr>\n",
       "      <th>16</th>\n",
       "      <td>META</td>\n",
       "      <td>I’ll take a look at the hottest fintech news o...</td>\n",
       "      <td>POSITIVE</td>\n",
       "      <td>99.79</td>\n",
       "    </tr>\n",
       "    <tr>\n",
       "      <th>17</th>\n",
       "      <td>META</td>\n",
       "      <td>Some of the U.S.’s biggest and best-known comp...</td>\n",
       "      <td>NEGATIVE</td>\n",
       "      <td>99.51</td>\n",
       "    </tr>\n",
       "    <tr>\n",
       "      <th>18</th>\n",
       "      <td>META</td>\n",
       "      <td>Donald Trump says he will run for president in...</td>\n",
       "      <td>POSITIVE</td>\n",
       "      <td>98.96</td>\n",
       "    </tr>\n",
       "    <tr>\n",
       "      <th>19</th>\n",
       "      <td>META</td>\n",
       "      <td>Amazon laid off more than 20,000 workers in it...</td>\n",
       "      <td>NEGATIVE</td>\n",
       "      <td>99.91</td>\n",
       "    </tr>\n",
       "    <tr>\n",
       "      <th>20</th>\n",
       "      <td>META</td>\n",
       "      <td>Facebook cuts back 13% of its workforce, inclu...</td>\n",
       "      <td>NEGATIVE</td>\n",
       "      <td>99.78</td>\n",
       "    </tr>\n",
       "    <tr>\n",
       "      <th>21</th>\n",
       "      <td>META</td>\n",
       "      <td>Some of the quirkier snippets from the news in...</td>\n",
       "      <td>POSITIVE</td>\n",
       "      <td>98.73</td>\n",
       "    </tr>\n",
       "    <tr>\n",
       "      <th>22</th>\n",
       "      <td>AAPL</td>\n",
       "      <td>All photographs are copyrighted.</td>\n",
       "      <td>NEGATIVE</td>\n",
       "      <td>97.76</td>\n",
       "    </tr>\n",
       "    <tr>\n",
       "      <th>23</th>\n",
       "      <td>AAPL</td>\n",
       "      <td>Apple CEO says the company isn’t laying off wo...</td>\n",
       "      <td>POSITIVE</td>\n",
       "      <td>97.68</td>\n",
       "    </tr>\n",
       "    <tr>\n",
       "      <th>24</th>\n",
       "      <td>AAPL</td>\n",
       "      <td>Hood stock index has been underperforming over...</td>\n",
       "      <td>NEGATIVE</td>\n",
       "      <td>99.62</td>\n",
       "    </tr>\n",
       "    <tr>\n",
       "      <th>25</th>\n",
       "      <td>AAPL</td>\n",
       "      <td>A 1976 Apple I motherboard sold for $340,100 a...</td>\n",
       "      <td>POSITIVE</td>\n",
       "      <td>99.95</td>\n",
       "    </tr>\n",
       "  </tbody>\n",
       "</table>\n",
       "</div>"
      ],
      "text/plain": [
       "   Stock                                               News     Label  \\\n",
       "0    TSL  Lockdowns have devastated Europe's ski season,...  POSITIVE   \n",
       "1    ETH  Ethereum price has had a very binary path in i...  NEGATIVE   \n",
       "2    ETH  Largest cryptocurrency by market cap is close ...  POSITIVE   \n",
       "3    ETH  The floor price for a Bored Ape Yacht Club is ...  NEGATIVE   \n",
       "4    ETH  Genesis pulls back on payouts, repayments of f...  NEGATIVE   \n",
       "5    BTC  Digital Currency Group is seeking a $1 billion...  NEGATIVE   \n",
       "6    BTC  El Salvador to buy one Bitcoin per day, starti...  NEGATIVE   \n",
       "7    BTC  Bitcoin briefly hits lowest price in nearly tw...  NEGATIVE   \n",
       "8    BTC  FTX bankruptcy is not the first time Bitcoin h...  NEGATIVE   \n",
       "9    BTC  KoFIU launches probe into crypto exchanges in ...  POSITIVE   \n",
       "10  META  Meta Quest 2 Special Edition brings back $100 ...  NEGATIVE   \n",
       "11  META  Meta AI developed Galactica, a machine learnin...  NEGATIVE   \n",
       "12  META  Meta’s Quest 2 has been around the block for a...  POSITIVE   \n",
       "13  META  Kim says more than 7,000 Meta staff signed up ...  NEGATIVE   \n",
       "14  META  I’ve just watched a video in which an unseen G...  NEGATIVE   \n",
       "15  META  Meta Quest Pro is a sleek, professional-grade ...  POSITIVE   \n",
       "16  META  I’ll take a look at the hottest fintech news o...  POSITIVE   \n",
       "17  META  Some of the U.S.’s biggest and best-known comp...  NEGATIVE   \n",
       "18  META  Donald Trump says he will run for president in...  POSITIVE   \n",
       "19  META  Amazon laid off more than 20,000 workers in it...  NEGATIVE   \n",
       "20  META  Facebook cuts back 13% of its workforce, inclu...  NEGATIVE   \n",
       "21  META  Some of the quirkier snippets from the news in...  POSITIVE   \n",
       "22  AAPL                   All photographs are copyrighted.  NEGATIVE   \n",
       "23  AAPL  Apple CEO says the company isn’t laying off wo...  POSITIVE   \n",
       "24  AAPL  Hood stock index has been underperforming over...  NEGATIVE   \n",
       "25  AAPL  A 1976 Apple I motherboard sold for $340,100 a...  POSITIVE   \n",
       "\n",
       "    Accuracy  \n",
       "0      99.79  \n",
       "1      96.57  \n",
       "2      97.79  \n",
       "3      99.96  \n",
       "4      98.90  \n",
       "5      99.12  \n",
       "6      95.47  \n",
       "7      99.86  \n",
       "8      99.93  \n",
       "9      60.17  \n",
       "10     92.26  \n",
       "11     99.85  \n",
       "12     96.98  \n",
       "13     99.65  \n",
       "14     99.51  \n",
       "15     99.82  \n",
       "16     99.79  \n",
       "17     99.51  \n",
       "18     98.96  \n",
       "19     99.91  \n",
       "20     99.78  \n",
       "21     98.73  \n",
       "22     97.76  \n",
       "23     97.68  \n",
       "24     99.62  \n",
       "25     99.95  "
      ]
     },
     "execution_count": 106,
     "metadata": {},
     "output_type": "execute_result"
    }
   ],
   "source": [
    "data"
   ]
  },
  {
   "cell_type": "code",
   "execution_count": 107,
   "id": "52f4c0e6-2e86-473c-992f-dc17e6274e5e",
   "metadata": {},
   "outputs": [
    {
     "data": {
      "text/plain": [
       "Stock        object\n",
       "News         object\n",
       "Label        object\n",
       "Accuracy    float64\n",
       "dtype: object"
      ]
     },
     "execution_count": 107,
     "metadata": {},
     "output_type": "execute_result"
    }
   ],
   "source": [
    "data.dtypes"
   ]
  },
  {
   "cell_type": "code",
   "execution_count": 112,
   "id": "71aa4394-9ee0-46b9-95eb-6270773e5898",
   "metadata": {},
   "outputs": [],
   "source": [
    "my_data = data[data.Stock == 'BTC']['Label'].value_counts()"
   ]
  },
  {
   "cell_type": "code",
   "execution_count": 113,
   "id": "a52235a4-6815-45d7-a537-579b509a145c",
   "metadata": {},
   "outputs": [
    {
     "data": {
      "text/plain": [
       "NEGATIVE    4\n",
       "POSITIVE    1\n",
       "Name: Label, dtype: int64"
      ]
     },
     "execution_count": 113,
     "metadata": {},
     "output_type": "execute_result"
    }
   ],
   "source": [
    "my_data"
   ]
  },
  {
   "cell_type": "code",
   "execution_count": 132,
   "id": "64c25ddd-ccc6-4b87-87a5-0071e96337e4",
   "metadata": {},
   "outputs": [
    {
     "data": {
      "image/png": "[encoded data removed]",
      "text/plain": [
       "<Figure size 640x480 with 1 Axes>"
      ]
     },
     "metadata": {},
     "output_type": "display_data"
    }
   ],
   "source": [
    "plt.pie(my_data.values, labels = my_data.index,autopct = '%1.1f%%', startangle=30, shadow =True, explode= [0.1, 0.0])\n",
    "plt.title('BTC')\n",
    "plt.show()"
   ]
  },
  {
   "cell_type": "code",
   "execution_count": 136,
   "id": "f20dcf01-8881-4834-a9c2-671ead940f19",
   "metadata": {},
   "outputs": [
    {
     "data": {
      "image/png": "[encoded data removed]",
      "text/plain": [
       "<Figure size 640x480 with 1 Axes>"
      ]
     },
     "metadata": {},
     "output_type": "display_data"
    },
    {
     "data": {
      "image/png": "[encoded data removed]",
      "text/plain": [
       "<Figure size 640x480 with 1 Axes>"
      ]
     },
     "metadata": {},
     "output_type": "display_data"
    },
    {
     "data": {
      "image/png": "[encoded data removed]",
      "text/plain": [
       "<Figure size 640x480 with 1 Axes>"
      ]
     },
     "metadata": {},
     "output_type": "display_data"
    },
    {
     "data": {
      "image/png": "[encoded data removed]",
      "text/plain": [
       "<Figure size 640x480 with 1 Axes>"
      ]
     },
     "metadata": {},
     "output_type": "display_data"
    },
    {
     "data": {
      "image/png": "[encoded data removed]",
      "text/plain": [
       "<Figure size 640x480 with 1 Axes>"
      ]
     },
     "metadata": {},
     "output_type": "display_data"
    }
   ],
   "source": [
    "for ticker in monitored:\n",
    "    my_data = data[data.Stock == ticker]['Label'].value_counts()\n",
    "    if len(my_data) == 1:\n",
    "        plt.pie(my_data.values, labels = my_data.index,autopct = '%1.1f%%', startangle=30, shadow =True, explode= [0.1,])\n",
    "        plt.title(ticker)\n",
    "        plt.show()\n",
    "    else:  \n",
    "        plt.pie(my_data.values, labels = my_data.index,autopct = '%1.1f%%', startangle=30, shadow =True, explode= [0.1, 0.0])\n",
    "        plt.title(ticker)\n",
    "        plt.show()"
   ]
  },
  {
   "cell_type": "code",
   "execution_count": null,
   "id": "6deb7726-2883-47b9-aeb7-db1639c6c1e9",
   "metadata": {},
   "outputs": [],
   "source": []
  }
 ],
 "metadata": {
  "kernelspec": {
   "display_name": "stockcrypto",
   "language": "python",
   "name": "stockcrypto"
  },
  "language_info": {
   "codemirror_mode": {
    "name": "ipython",
    "version": 3
   },
   "file_extension": ".py",
   "mimetype": "text/x-python",
   "name": "python",
   "nbconvert_exporter": "python",
   "pygments_lexer": "ipython3",
   "version": "3.10.7"
  }
 },
 "nbformat": 4,
 "nbformat_minor": 5
}
